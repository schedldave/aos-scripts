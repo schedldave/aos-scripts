{
  "nbformat": 4,
  "nbformat_minor": 0,
  "metadata": {
    "colab": {
      "name": "MSE with Motion_DRIVE",
      "provenance": [],
      "collapsed_sections": [],
      "include_colab_link": true
    },
    "kernelspec": {
      "name": "python3",
      "display_name": "Python 3"
    },
    "language_info": {
      "name": "python"
    }
  },
  "cells": [
    {
      "cell_type": "markdown",
      "metadata": {
        "id": "view-in-github",
        "colab_type": "text"
      },
      "source": [
        "<a href=\"https://colab.research.google.com/github/schedldave/aos-scripts/blob/main/MSE_with_Motion_DRIVE.ipynb\" target=\"_parent\"><img src=\"https://colab.research.google.com/assets/colab-badge.svg\" alt=\"Open In Colab\"/></a>"
      ]
    },
    {
      "cell_type": "code",
      "metadata": {
        "id": "U50WLRkSBocg"
      },
      "source": [
        "import numpy as np\n",
        "import cv2\n",
        "import matplotlib.pyplot as plt\n",
        "\n",
        "\n",
        "# utility function(s)\n",
        "def imshow(image, *args, **kwargs):\n",
        "    \"\"\"A replacement for cv2.imshow() for use in Jupyter notebooks using matplotlib.\n",
        "\n",
        "        Args:\n",
        "          image : np.ndarray. shape (N, M) or (N, M, 1) is an NxM grayscale image. shape\n",
        "            (N, M, 3) is an NxM BGR color image. \n",
        "    \"\"\"\n",
        "    if len(image.shape) == 3:\n",
        "      # Height, width, channels\n",
        "      # Assume BGR, do a conversion  \n",
        "      image = cv2.cvtColor(image, cv2.COLOR_BGR2RGB)\n",
        "\n",
        "    # Draw the image\n",
        "    im = plt.imshow(image, *args, **kwargs)\n",
        "    # We'll also disable drawing the axes and tick marks in the plot, since it's actually an image\n",
        "    plt.axis('off')\n",
        "    # Make sure it outputs\n",
        "    # plt.show()\n",
        "    return im"
      ],
      "execution_count": 92,
      "outputs": []
    },
    {
      "cell_type": "markdown",
      "metadata": {
        "id": "iPsbrmoJqK0m"
      },
      "source": [
        "A single binary view (area: $w \\times w$) is composed of zero background and of a target of size $a \\times a$. The mean and variance of such a 2D view are \n",
        "$$\n",
        "\\mu = \\frac{a^2}{w^2} \\\\\n",
        "\\sigma = \\mu(\\mu-1)^2 + (1-\\mu)(\\mu-0)^2 =  \\mu - \\mu^2\n",
        "$$\n",
        ", where the mean ($\\mu$) also describes the size relation of the target with respect to the view. The term $(\\mu-1)^2$ is the variance computation in the target and $(\\mu-0)^2 = \\mu^2$ the variance for the background.\n",
        "\n",
        "The code below shows such an example:"
      ]
    },
    {
      "cell_type": "code",
      "metadata": {
        "colab": {
          "base_uri": "https://localhost:8080/",
          "height": 264
        },
        "id": "lcMr1P_-B7bc",
        "outputId": "2d9d4db1-eda6-4329-8070-e816e51b1a18"
      },
      "source": [
        "w = 300\n",
        "a =  50\n",
        "sx,sy = int(w/3), int(w/3)\n",
        "\n",
        "single = np.zeros((300,300))\n",
        "single[sx:sx+a,sy:sy+a] = 1.0\n",
        "\n",
        "imshow(single)\n",
        "plt.title( 'mean: {}, var: {}'.format(np.mean(single), np.var(single)))\n",
        "plt.show()"
      ],
      "execution_count": 93,
      "outputs": [
        {
          "output_type": "display_data",
          "data": {
            "image/png": "[encoded data removed]",
            "text/plain": [
              "<Figure size 432x288 with 1 Axes>"
            ]
          },
          "metadata": {
            "tags": [],
            "needs_background": "light"
          }
        }
      ]
    },
    {
      "cell_type": "markdown",
      "metadata": {
        "id": "SyWhnSbssdgr"
      },
      "source": [
        "If multiple such single views are averaged (as typically done in AOS) it has no effect on the variance and mean as long as the target is perfectly registered. \n",
        "\n",
        "If the target, however, is not registered (e.g., a moving target or by defocus) the statistics change. \n",
        "Let's first look at the extreme case, where the averaged targets are not overlapping anymore. This is showcased below by introducing a shift $d$ for $N$ images.\n",
        "The mean ($\\mu$) is not altered, but the variance changes:\n",
        "$$\n",
        "\\sigma = N\\mu(\\mu-\\frac{1}{N})^2 + (1-N\\mu)(\\mu-0)^2 =  \\frac{\\mu}{N} - \\mu^2 \\text{.}\n",
        "$$\n",
        "The change of $\\sigma$ is inverse proportional to $N$. Note that $N\\mu$ describes the area covered by the non-overlapping instances of the target. "
      ]
    },
    {
      "cell_type": "code",
      "metadata": {
        "colab": {
          "base_uri": "https://localhost:8080/",
          "height": 299
        },
        "id": "hlOm7fXbC9Oz",
        "outputId": "0ceba5bb-aedc-4d07-92c5-cdf7f7299d80"
      },
      "source": [
        "w = 300\n",
        "a =  20\n",
        "r = a*a / w**2 # ratio/mean\n",
        "print(r)\n",
        "d = 25\n",
        "N = 10\n",
        "sx,sy = int(a), int(a)\n",
        "sum = np.zeros((w,w))\n",
        "\n",
        "for i in range(N):\n",
        "  single = np.zeros((w,w))\n",
        "  x,y = sx + i*d, sy\n",
        "  single[x:x+a,y:y+a] = 1.0\n",
        "  sum += single\n",
        "\n",
        "sum = sum/N\n",
        "\n",
        "imshow(sum, vmin=0.0, vmax=1.0)\n",
        "plt.title( 'mean: {}, var: {}'.format(np.mean(sum), np.var(sum)))\n",
        "plt.show()\n",
        "\n",
        "# variance computation\n",
        "v_overlap = r - r**2\n",
        "v_nonoverlap = r/N - r**2\n",
        "print('var (non-overlap): {}'.format( v_nonoverlap ) )\n"
      ],
      "execution_count": 3,
      "outputs": [
        {
          "output_type": "stream",
          "text": [
            "0.0044444444444444444\n"
          ],
          "name": "stdout"
        },
        {
          "output_type": "display_data",
          "data": {
            "image/png": "[encoded data removed]",
            "text/plain": [
              "<Figure size 432x288 with 1 Axes>"
            ]
          },
          "metadata": {
            "tags": [],
            "needs_background": "light"
          }
        },
        {
          "output_type": "stream",
          "text": [
            "var (non-overlap): 0.00042469135802469137\n"
          ],
          "name": "stdout"
        }
      ]
    },
    {
      "cell_type": "markdown",
      "metadata": {
        "id": "icUep5Q1vkXl"
      },
      "source": [
        "If the shift $d$ is less then the target size $a$ $(d < a)$ the targets will overlap in the integral image. For simplicity we will just look at the problem in 1D now. \n",
        "The area (normalized by the area size) that is covered by the non-overlapping targets can be expressed by \n",
        "$$\n",
        "  g = \\frac{d(N-1)+a}{w}\n",
        "$$\n",
        "and the number of overlaps is expressed by \n",
        "$$\n",
        "  M = \\frac{a}{d}\n",
        "$$\n",
        ", where it has to be ensured that $M$ does not exceed $N$. \n",
        "Furthermore, there will be different regions with a varying amount of overlap. For example a target with $a=5$ a shift of $d=2$ and $N=7$ results in 4 regions without overlap in 8 regions where two target instances overlap and 5 regions with an overlap of three targets. Note that this is illustrated in the example below. Furthermore, in this simulation a region is a pixel or array cell. \n",
        "\n",
        "To compute the variance the different overlaps have to be considered. We introduce this as a count $c_i$, where $i$ is the number of overlapping targets. In the example this results in $c_1=4, c_2=8$, and $c_3=5$.\n",
        "The equation to compute the variance thus expands to\n",
        "$$\n",
        "  \\sigma = (1-g)\\mu^2 + \\frac{1}{w} \\sum_i c_i (\\mu - \\frac{i}{N})^2 \\\\\n",
        "   =  \\mu^2 - \\frac{2\\mu}{Nw} \\sum_i c_i i + \\frac{1}{N^2w} \\sum_i c_i i^2 \\text{.}\n",
        "$$\n",
        "By subsituting $\\mu = a/w$ (in 1D) it further simplifies to\n",
        "$$\n",
        "  \\sigma =  \\frac{a^2}{w^2} - \\frac{2a}{Nw^2} \\sum_i{ c_i i }+ \\frac{1}{N^2w} \\sum_i c_i i^2 \\text{.}\n",
        "$$\n",
        "\n",
        "Note that it is propably impractical to always compute $c_i$ so it might be possible to simplify or approximate these terms. A first attempt would be to approximate the terms by\n",
        "$$\n",
        " \\sum_i{ c_i i }   \\approx M (d (N-1-M)+a) \\\\\n",
        " \\sum_i{ c_i i^2 } \\approx M^2 (d (N-1-M)+a) \\text{.}\n",
        "$$\n",
        "This, however does not allways lead to close results (see below). \n",
        "\n"
      ]
    },
    {
      "cell_type": "code",
      "metadata": {
        "colab": {
          "base_uri": "https://localhost:8080/",
          "height": 145
        },
        "id": "Ig3YnjtzPRHZ",
        "outputId": "44f5d130-3047-4fd5-ec23-0283a5d0422c"
      },
      "source": [
        "w = 30\n",
        "a =  5\n",
        "r = a / w # ratio/mean\n",
        "print(r)\n",
        "d = 2\n",
        "N = 7\n",
        "sx,sy = int(a), int(a)\n",
        "sum = np.zeros((1,w))\n",
        "\n",
        "for i in range(N):\n",
        "  single = np.zeros_like(sum)\n",
        "  x,y = sx + i*d, sy\n",
        "  single[:,x:x+a] = 1.0\n",
        "  sum += single\n",
        "\n",
        "count,bins=np.histogram(sum, bins=np.arange(np.max(sum)+2))\n",
        "print(count) \n",
        "print(np.asarray(bins[:-1],dtype=np.int16))\n",
        "sum = sum/N\n",
        "\n",
        "imshow(sum, vmin=0.0, vmax=1.0)\n",
        "plt.title( 'mean: {}, var: {}'.format(np.mean(sum), np.var(sum)))\n",
        "plt.show()\n",
        "\n",
        "# variance computation\n",
        "if d<=0:\n",
        "  M = N\n",
        "else:\n",
        "  M = max(min(a/d,N),1)\n",
        "\n",
        "v_overlap = r - r**2        # assuming everything is overlapping\n",
        "v_nonoverlap = r/N - r**2   # assuming nothing is overlapping in the integral\n",
        "\n",
        "term1 = np.sum(bins[:-1] * count)\n",
        "term2 = np.sum(bins[:-1]**2 * count)\n",
        "v = a**2/w**2 - 2*a/(N*w**2)*term1 + 1/(N**2*w)*term2\n",
        "print('var (new): {}'.format( v ) )\n",
        "\n",
        "# approximate term1 and term2\n",
        "term1_ = M * (d*(N-1-M)+a)\n",
        "term2_ = term1_ * M\n",
        "v_ = a**2/w**2 - 2*a/(N*w**2)*term1_ + 1/(N**2*w)*term2_\n",
        "print('var (approx): {}'.format( v_ ) )\n",
        "\n"
      ],
      "execution_count": 4,
      "outputs": [
        {
          "output_type": "stream",
          "text": [
            "0.16666666666666666\n",
            "[13  4  8  5]\n",
            "[0 1 2 3]\n"
          ],
          "name": "stdout"
        },
        {
          "output_type": "display_data",
          "data": {
            "image/png": "[encoded data removed]",
            "text/plain": [
              "<Figure size 432x288 with 1 Axes>"
            ]
          },
          "metadata": {
            "tags": [],
            "needs_background": "light"
          }
        },
        {
          "output_type": "stream",
          "text": [
            "var (new): 0.02732426303854875\n",
            "var (approx): 0.03117913832199546\n"
          ],
          "name": "stdout"
        }
      ]
    },
    {
      "cell_type": "markdown",
      "metadata": {
        "id": "ojGWvGUyAHGE"
      },
      "source": [
        "In this section, we discuss the statistical model of the\n",
        "$MSE$ between an integral image $X$ and an hypothetical\n",
        "occlusion-free reference $S$ . \n",
        "$$\n",
        "MSE = E[(X- S)^2] = E[X^2] -2E[XS] +E[S^2]\n",
        "$$"
      ]
    },
    {
      "cell_type": "markdown",
      "metadata": {
        "id": "Q2tcpUKFfVrU"
      },
      "source": [
        "Below is theorithical MSE calulation provided ( signal mean, siganl variance, occluder mean, occluder variance, occluder density, no of integrated images, numof overlapping images)\n",
        "\n",
        "--- Current Equation works when number of overlapping images images are integers ( i.e image size is multiple of shipt)"
      ]
    },
    {
      "cell_type": "code",
      "metadata": {
        "id": "JfJT8WEjDRBL"
      },
      "source": [
        "def theoritcal_MSE(signalmean,signalvar,occlmean,occlvar,occldens,noofintegratedimage,numofover):\n",
        "  MSE = ((1-(numofover*(1-occldens)/noofintegratedimage))**2 + (numofover*occldens*(1-occldens)/(noofintegratedimage**2)))*(signalvar+(occlmean-signalmean)**2) + (((numofover*occldens+noofintegratedimage-numofover)/(noofintegratedimage**2))*occlvar)\n",
        "  return MSE"
      ],
      "execution_count": 5,
      "outputs": []
    },
    {
      "cell_type": "markdown",
      "metadata": {
        "id": "ginGvIP1gJNs"
      },
      "source": [
        "Below we measure mse when no occlusion is present in 1D Case"
      ]
    },
    {
      "cell_type": "code",
      "metadata": {
        "id": "nLUyUy_LFFkO",
        "colab": {
          "base_uri": "https://localhost:8080/",
          "height": 351
        },
        "outputId": "13ac2037-b3c0-44f5-9f5e-c3e6b880a179"
      },
      "source": [
        "w = 100\n",
        "a =  15\n",
        "r = a / w # ratio/mean\n",
        "print(r)\n",
        "d = 5\n",
        "N = 10\n",
        "signalmean = 0.5\n",
        "sx,sy = int(a), int(a)\n",
        "sum = np.zeros((1,w))\n",
        "singleimagearray =[]\n",
        "for i in range(N):\n",
        "  single = np.zeros_like(sum)\n",
        "  x,y = sx + i*d, sy\n",
        "  single[:,x:x+a] = signalmean\n",
        "  imshow(single, vmin=0.0, vmax=1.0)\n",
        "  plt.show()\n",
        "  singleimagearray.append(single)\n",
        "  sum += single\n",
        "sum = sum/N\n",
        "imshow(sum, vmin=0.0, vmax=1.0)\n",
        "plt.title( 'mean: {}, var: {}'.format(np.mean(sum), np.var(sum)))\n",
        "plt.show()\n",
        "#####Calculate Mean square error#############\n",
        "noofpix = d\n",
        "x,y = sx + 0*d, sy\n",
        "endx,endy = sx + (N-2)*d, sy\n",
        "imshow(sum[:,x+a-noofpix:endx+a-noofpix], vmin=0.0, vmax=1.0)\n",
        "plt.title( 'Integrated Signal mean: {}, var: {}'.format(np.mean(sum[:,x+a-noofpix:endx+a-noofpix]), np.var(sum[:,x+a-noofpix:endx+a-noofpix])))\n",
        "plt.show() \n",
        "nopa = sum[:,x+a-noofpix:endx+a-noofpix]\n",
        "nop = len(nopa)\n",
        "sourcesingle = np.zeros((1,w))\n",
        "sourcesingle[:,x+a-noofpix:endx+a-noofpix] = signalmean\n",
        "imshow(sourcesingle[:,x+a-noofpix:endx+a-noofpix], vmin=0.0, vmax=1.0)\n",
        "plt.title( 'Source Signal mean: {}, var: {}'.format(np.mean(sourcesingle[:,x+a-noofpix:endx+a-noofpix]), np.var(sourcesingle[:,x+a-noofpix:endx+a-noofpix])))\n",
        "plt.show() \n",
        "calcmse = np.mean((sum[:,x+a-noofpix:endx+a-noofpix] - sourcesingle[:,x+a-noofpix:endx+a-noofpix])**2)\n",
        "print(\"calculated mse\",calcmse)\n",
        "theoriticalmse = theoritcal_MSE(0.5,0,0,0,0,N,int(a/d))\n",
        "print(\"theoritical mse\",theoriticalmse)"
      ],
      "execution_count": 6,
      "outputs": [
        {
          "output_type": "stream",
          "text": [
            "0.15\n"
          ],
          "name": "stdout"
        },
        {
          "output_type": "display_data",
          "data": {
            "image/png": "[encoded data removed]",
            "text/plain": [
              "<Figure size 432x288 with 1 Axes>"
            ]
          },
          "metadata": {
            "tags": [],
            "needs_background": "light"
          }
        },
        {
          "output_type": "display_data",
          "data": {
            "image/png": "[encoded data removed]",
            "text/plain": [
              "<Figure size 432x288 with 1 Axes>"
            ]
          },
          "metadata": {
            "tags": [],
            "needs_background": "light"
          }
        },
        {
          "output_type": "display_data",
          "data": {
            "image/png": "[encoded data removed]",
            "text/plain": [
              "<Figure size 432x288 with 1 Axes>"
            ]
          },
          "metadata": {
            "tags": [],
            "needs_background": "light"
          }
        },
        {
          "output_type": "display_data",
          "data": {
            "image/png": "[encoded data removed]",
            "text/plain": [
              "<Figure size 432x288 with 1 Axes>"
            ]
          },
          "metadata": {
            "tags": [],
            "needs_background": "light"
          }
        },
        {
          "output_type": "display_data",
          "data": {
            "image/png": "[encoded data removed]",
            "text/plain": [
              "<Figure size 432x288 with 1 Axes>"
            ]
          },
          "metadata": {
            "tags": [],
            "needs_background": "light"
          }
        },
        {
          "output_type": "display_data",
          "data": {
            "image/png": "[encoded data removed]",
            "text/plain": [
              "<Figure size 432x288 with 1 Axes>"
            ]
          },
          "metadata": {
            "tags": [],
            "needs_background": "light"
          }
        },
        {
          "output_type": "display_data",
          "data": {
            "image/png": "[encoded data removed]",
            "text/plain": [
              "<Figure size 432x288 with 1 Axes>"
            ]
          },
          "metadata": {
            "tags": [],
            "needs_background": "light"
          }
        },
        {
          "output_type": "display_data",
          "data": {
            "image/png": "[encoded data removed]",
            "text/plain": [
              "<Figure size 432x288 with 1 Axes>"
            ]
          },
          "metadata": {
            "tags": [],
            "needs_background": "light"
          }
        },
        {
          "output_type": "display_data",
          "data": {
            "image/png": "[encoded data removed]",
            "text/plain": [
              "<Figure size 432x288 with 1 Axes>"
            ]
          },
          "metadata": {
            "tags": [],
            "needs_background": "light"
          }
        },
        {
          "output_type": "display_data",
          "data": {
            "image/png": "[encoded data removed]",
            "text/plain": [
              "<Figure size 432x288 with 1 Axes>"
            ]
          },
          "metadata": {
            "tags": [],
            "needs_background": "light"
          }
        },
        {
          "output_type": "display_data",
          "data": {
            "image/png": "[encoded data removed]",
            "text/plain": [
              "<Figure size 432x288 with 1 Axes>"
            ]
          },
          "metadata": {
            "tags": [],
            "needs_background": "light"
          }
        },
        {
          "output_type": "display_data",
          "data": {
            "image/png": "[encoded data removed]",
            "text/plain": [
              "<Figure size 432x288 with 1 Axes>"
            ]
          },
          "metadata": {
            "tags": [],
            "needs_background": "light"
          }
        },
        {
          "output_type": "display_data",
          "data": {
            "image/png": "[encoded data removed]",
            "text/plain": [
              "<Figure size 432x288 with 1 Axes>"
            ]
          },
          "metadata": {
            "tags": [],
            "needs_background": "light"
          }
        },
        {
          "output_type": "stream",
          "text": [
            "calculated mse 0.12249999999999998\n",
            "theoritical mse 0.12249999999999998\n"
          ],
          "name": "stdout"
        }
      ]
    },
    {
      "cell_type": "markdown",
      "metadata": {
        "id": "yQY5SqOYgWe6"
      },
      "source": [
        "Below we measure when occlusion are randomly present with Density D"
      ]
    },
    {
      "cell_type": "code",
      "metadata": {
        "colab": {
          "base_uri": "https://localhost:8080/",
          "height": 966
        },
        "id": "u9gLrEBAfR2x",
        "outputId": "cd3922bc-082d-488d-9a8d-0b0099682f36"
      },
      "source": [
        "w = 100\n",
        "a =  10\n",
        "r = a / w # ratio/mean\n",
        "print(r)\n",
        "d = 2\n",
        "o_size = 2\n",
        "o_shift = 2\n",
        "o_dens = 0.2\n",
        "N = 20\n",
        "\n",
        "sx,sy = int(a), int(a)\n",
        "sum = np.zeros((1,w))\n",
        "singleimagearray =[]\n",
        "occlimage = np.random.choice([0, 1], size=(1,50), p=[o_dens, 1-o_dens]) #np.random.binomial(n=1, p=1-o_dens, size=(1,50))\n",
        "print(np.mean(occlimage), np.count_nonzero(occlimage), np.count_nonzero(occlimage)/50)\n",
        "imshow(occlimage, vmin=0.0, vmax=1.0)\n",
        "plt.show()\n",
        "occlimage = occlimage.repeat(o_size, axis=1)\n",
        "meas_dens = 1 - np.count_nonzero(occlimage)/100\n",
        "print(np.mean(occlimage), np.count_nonzero(occlimage),np.count_nonzero(occlimage)/100)\n",
        "imshow(occlimage, vmin=0.0, vmax=1.0)\n",
        "plt.show()\n",
        "shiftedocclimage = np.roll(occlimage, 2)\n",
        "imshow(shiftedocclimage, vmin=0.0, vmax=1.0)\n",
        "plt.show()\n",
        "for i in range(N):\n",
        "  single = np.zeros_like(sum)\n",
        "  x,y = sx + i*d, sy\n",
        "  single[:,x:x+a] = 0.5\n",
        "  shiftedocclimage = np.roll(occlimage, i*o_shift)\n",
        "  imshow(shiftedocclimage, vmin=0.0, vmax=1.0)\n",
        "  plt.show()\n",
        "  single = single * shiftedocclimage\n",
        "  imshow(single, vmin=0.0, vmax=1.0)\n",
        "  plt.show()\n",
        "  singleimagearray.append(single)\n",
        "  sum += single\n",
        "sum = sum/N\n",
        "imshow(sum, vmin=0.0, vmax=1.0)\n",
        "plt.title( 'mean: {}, var: {}'.format(np.mean(sum), np.var(sum)))\n",
        "plt.show()\n",
        "#####Calculate Mean square error#############\n",
        "noofpix = d\n",
        "x,y = sx + 0*d, sy\n",
        "endx,endy = sx + (N-4)*d, sy\n",
        "imshow(sum[:,x+a-noofpix:endx+a-noofpix], vmin=0.0, vmax=1.0)\n",
        "plt.title( 'Integrated Signal mean: {}, var: {}'.format(np.mean(sum[:,x+a-noofpix:endx+a-noofpix]), np.var(sum[:,x+a-noofpix:endx+a-noofpix])))\n",
        "plt.show() \n",
        "nopa = sum[:,x+a-noofpix:endx+a-noofpix]\n",
        "nop = len(nopa)\n",
        "sourcesingle = np.zeros((1,w))\n",
        "sourcesingle[:,x+a-noofpix:endx+a-noofpix] = signalmean\n",
        "imshow(sourcesingle[:,x+a-noofpix:endx+a-noofpix], vmin=0.0, vmax=1.0)\n",
        "plt.title( 'Source Signal mean: {}, var: {}'.format(np.mean(sourcesingle[:,x+a-noofpix:endx+a-noofpix]), np.var(sourcesingle[:,x+a-noofpix:endx+a-noofpix])))\n",
        "plt.show() \n",
        "calcmse = np.mean((sum[:,x+a-noofpix:endx+a-noofpix] - sourcesingle[:,x+a-noofpix:endx+a-noofpix])**2)\n",
        "print(\"calculated mse\",calcmse)\n",
        "theoriticalmse = theoritcal_MSE(0.5,0,0,0,meas_dens,N,int(a/d))\n",
        "print(\"theoritical mse\",theoriticalmse)"
      ],
      "execution_count": 7,
      "outputs": [
        {
          "output_type": "stream",
          "text": [
            "0.1\n",
            "0.76 38 0.76\n"
          ],
          "name": "stdout"
        },
        {
          "output_type": "display_data",
          "data": {
            "image/png": "[encoded data removed]",
            "text/plain": [
              "<Figure size 432x288 with 1 Axes>"
            ]
          },
          "metadata": {
            "tags": [],
            "needs_background": "light"
          }
        },
        {
          "output_type": "stream",
          "text": [
            "0.76 76 0.76\n"
          ],
          "name": "stdout"
        },
        {
          "output_type": "display_data",
          "data": {
            "image/png": "[encoded data removed]",
            "text/plain": [
              "<Figure size 432x288 with 1 Axes>"
            ]
          },
          "metadata": {
            "tags": [],
            "needs_background": "light"
          }
        },
        {
          "output_type": "display_data",
          "data": {
            "image/png": "[encoded data removed]",
            "text/plain": [
              "<Figure size 432x288 with 1 Axes>"
            ]
          },
          "metadata": {
            "tags": [],
            "needs_background": "light"
          }
        },
        {
          "output_type": "display_data",
          "data": {
            "image/png": "[encoded data removed]",
            "text/plain": [
              "<Figure size 432x288 with 1 Axes>"
            ]
          },
          "metadata": {
            "tags": [],
            "needs_background": "light"
          }
        },
        {
          "output_type": "display_data",
          "data": {
            "image/png": "[encoded data removed]",
            "text/plain": [
              "<Figure size 432x288 with 1 Axes>"
            ]
          },
          "metadata": {
            "tags": [],
            "needs_background": "light"
          }
        },
        {
          "output_type": "display_data",
          "data": {
            "image/png": "[encoded data removed]",
            "text/plain": [
              "<Figure size 432x288 with 1 Axes>"
            ]
          },
          "metadata": {
            "tags": [],
            "needs_background": "light"
          }
        },
        {
          "output_type": "display_data",
          "data": {
            "image/png": "[encoded data removed]",
            "text/plain": [
              "<Figure size 432x288 with 1 Axes>"
            ]
          },
          "metadata": {
            "tags": [],
            "needs_background": "light"
          }
        },
        {
          "output_type": "display_data",
          "data": {
            "image/png": "[encoded data removed]",
            "text/plain": [
              "<Figure size 432x288 with 1 Axes>"
            ]
          },
          "metadata": {
            "tags": [],
            "needs_background": "light"
          }
        },
        {
          "output_type": "display_data",
          "data": {
            "image/png": "[encoded data removed]",
            "text/plain": [
              "<Figure size 432x288 with 1 Axes>"
            ]
          },
          "metadata": {
            "tags": [],
            "needs_background": "light"
          }
        },
        {
          "output_type": "display_data",
          "data": {
            "image/png": "[encoded data removed]",
            "text/plain": [
              "<Figure size 432x288 with 1 Axes>"
            ]
          },
          "metadata": {
            "tags": [],
            "needs_background": "light"
          }
        },
        {
          "output_type": "display_data",
          "data": {
            "image/png": "[encoded data removed]",
            "text/plain": [
              "<Figure size 432x288 with 1 Axes>"
            ]
          },
          "metadata": {
            "tags": [],
            "needs_background": "light"
          }
        },
        {
          "output_type": "display_data",
          "data": {
            "image/png": "[encoded data removed]",
            "text/plain": [
              "<Figure size 432x288 with 1 Axes>"
            ]
          },
          "metadata": {
            "tags": [],
            "needs_background": "light"
          }
        },
        {
          "output_type": "display_data",
          "data": {
            "image/png": "[encoded data removed]",
            "text/plain": [
              "<Figure size 432x288 with 1 Axes>"
            ]
          },
          "metadata": {
            "tags": [],
            "needs_background": "light"
          }
        },
        {
          "output_type": "display_data",
          "data": {
            "image/png": "[encoded data removed]",
            "text/plain": [
              "<Figure size 432x288 with 1 Axes>"
            ]
          },
          "metadata": {
            "tags": [],
            "needs_background": "light"
          }
        },
        {
          "output_type": "display_data",
          "data": {
            "image/png": "[encoded data removed]",
            "text/plain": [
              "<Figure size 432x288 with 1 Axes>"
            ]
          },
          "metadata": {
            "tags": [],
            "needs_background": "light"
          }
        },
        {
          "output_type": "display_data",
          "data": {
            "image/png": "[encoded data removed]",
            "text/plain": [
              "<Figure size 432x288 with 1 Axes>"
            ]
          },
          "metadata": {
            "tags": [],
            "needs_background": "light"
          }
        },
        {
          "output_type": "display_data",
          "data": {
            "image/png": "[encoded data removed]",
            "text/plain": [
              "<Figure size 432x288 with 1 Axes>"
            ]
          },
          "metadata": {
            "tags": [],
            "needs_background": "light"
          }
        },
        {
          "output_type": "display_data",
          "data": {
            "image/png": "[encoded data removed]",
            "text/plain": [
              "<Figure size 432x288 with 1 Axes>"
            ]
          },
          "metadata": {
            "tags": [],
            "needs_background": "light"
          }
        },
        {
          "output_type": "display_data",
          "data": {
            "image/png": "[encoded data removed]",
            "text/plain": [
              "<Figure size 432x288 with 1 Axes>"
            ]
          },
          "metadata": {
            "tags": [],
            "needs_background": "light"
          }
        },
        {
          "output_type": "display_data",
          "data": {
            "image/png": "[encoded data removed]",
            "text/plain": [
              "<Figure size 432x288 with 1 Axes>"
            ]
          },
          "metadata": {
            "tags": [],
            "needs_background": "light"
          }
        },
        {
          "output_type": "display_data",
          "data": {
            "image/png": "[encoded data removed]",
            "text/plain": [
              "<Figure size 432x288 with 1 Axes>"
            ]
          },
          "metadata": {
            "tags": [],
            "needs_background": "light"
          }
        },
        {
          "output_type": "display_data",
          "data": {
            "image/png": "[encoded data removed]",
            "text/plain": [
              "<Figure size 432x288 with 1 Axes>"
            ]
          },
          "metadata": {
            "tags": [],
            "needs_background": "light"
          }
        },
        {
          "output_type": "display_data",
          "data": {
            "image/png": "[encoded data removed]",
            "text/plain": [
              "<Figure size 432x288 with 1 Axes>"
            ]
          },
          "metadata": {
            "tags": [],
            "needs_background": "light"
          }
        },
        {
          "output_type": "display_data",
          "data": {
            "image/png": "[encoded data removed]",
            "text/plain": [
              "<Figure size 432x288 with 1 Axes>"
            ]
          },
          "metadata": {
            "tags": [],
            "needs_background": "light"
          }
        },
        {
          "output_type": "display_data",
          "data": {
            "image/png": "[encoded data removed]",
            "text/plain": [
              "<Figure size 432x288 with 1 Axes>"
            ]
          },
          "metadata": {
            "tags": [],
            "needs_background": "light"
          }
        },
        {
          "output_type": "display_data",
          "data": {
            "image/png": "[encoded data removed]",
            "text/plain": [
              "<Figure size 432x288 with 1 Axes>"
            ]
          },
          "metadata": {
            "tags": [],
            "needs_background": "light"
          }
        },
        {
          "output_type": "display_data",
          "data": {
            "image/png": "[encoded data removed]",
            "text/plain": [
              "<Figure size 432x288 with 1 Axes>"
            ]
          },
          "metadata": {
            "tags": [],
            "needs_background": "light"
          }
        },
        {
          "output_type": "display_data",
          "data": {
            "image/png": "[encoded data removed]",
            "text/plain": [
              "<Figure size 432x288 with 1 Axes>"
            ]
          },
          "metadata": {
            "tags": [],
            "needs_background": "light"
          }
        },
        {
          "output_type": "display_data",
          "data": {
            "image/png": "[encoded data removed]",
            "text/plain": [
              "<Figure size 432x288 with 1 Axes>"
            ]
          },
          "metadata": {
            "tags": [],
            "needs_background": "light"
          }
        },
        {
          "output_type": "display_data",
          "data": {
            "image/png": "[encoded data removed]",
            "text/plain": [
              "<Figure size 432x288 with 1 Axes>"
            ]
          },
          "metadata": {
            "tags": [],
            "needs_background": "light"
          }
        },
        {
          "output_type": "display_data",
          "data": {
            "image/png": "[encoded data removed]",
            "text/plain": [
              "<Figure size 432x288 with 1 Axes>"
            ]
          },
          "metadata": {
            "tags": [],
            "needs_background": "light"
          }
        },
        {
          "output_type": "display_data",
          "data": {
            "image/png": "[encoded data removed]",
            "text/plain": [
              "<Figure size 432x288 with 1 Axes>"
            ]
          },
          "metadata": {
            "tags": [],
            "needs_background": "light"
          }
        },
        {
          "output_type": "display_data",
          "data": {
            "image/png": "[encoded data removed]",
            "text/plain": [
              "<Figure size 432x288 with 1 Axes>"
            ]
          },
          "metadata": {
            "tags": [],
            "needs_background": "light"
          }
        },
        {
          "output_type": "display_data",
          "data": {
            "image/png": "[encoded data removed]",
            "text/plain": [
              "<Figure size 432x288 with 1 Axes>"
            ]
          },
          "metadata": {
            "tags": [],
            "needs_background": "light"
          }
        },
        {
          "output_type": "display_data",
          "data": {
            "image/png": "[encoded data removed]",
            "text/plain": [
              "<Figure size 432x288 with 1 Axes>"
            ]
          },
          "metadata": {
            "tags": [],
            "needs_background": "light"
          }
        },
        {
          "output_type": "display_data",
          "data": {
            "image/png": "[encoded data removed]",
            "text/plain": [
              "<Figure size 432x288 with 1 Axes>"
            ]
          },
          "metadata": {
            "tags": [],
            "needs_background": "light"
          }
        },
        {
          "output_type": "display_data",
          "data": {
            "image/png": "[encoded data removed]",
            "text/plain": [
              "<Figure size 432x288 with 1 Axes>"
            ]
          },
          "metadata": {
            "tags": [],
            "needs_background": "light"
          }
        },
        {
          "output_type": "display_data",
          "data": {
            "image/png": "[encoded data removed]",
            "text/plain": [
              "<Figure size 432x288 with 1 Axes>"
            ]
          },
          "metadata": {
            "tags": [],
            "needs_background": "light"
          }
        },
        {
          "output_type": "display_data",
          "data": {
            "image/png": "[encoded data removed]",
            "text/plain": [
              "<Figure size 432x288 with 1 Axes>"
            ]
          },
          "metadata": {
            "tags": [],
            "needs_background": "light"
          }
        },
        {
          "output_type": "display_data",
          "data": {
            "image/png": "[encoded data removed]",
            "text/plain": [
              "<Figure size 432x288 with 1 Axes>"
            ]
          },
          "metadata": {
            "tags": [],
            "needs_background": "light"
          }
        },
        {
          "output_type": "display_data",
          "data": {
            "image/png": "[encoded data removed]",
            "text/plain": [
              "<Figure size 432x288 with 1 Axes>"
            ]
          },
          "metadata": {
            "tags": [],
            "needs_background": "light"
          }
        },
        {
          "output_type": "display_data",
          "data": {
            "image/png": "[encoded data removed]",
            "text/plain": [
              "<Figure size 432x288 with 1 Axes>"
            ]
          },
          "metadata": {
            "tags": [],
            "needs_background": "light"
          }
        },
        {
          "output_type": "display_data",
          "data": {
            "image/png": "[encoded data removed]",
            "text/plain": [
              "<Figure size 432x288 with 1 Axes>"
            ]
          },
          "metadata": {
            "tags": [],
            "needs_background": "light"
          }
        },
        {
          "output_type": "display_data",
          "data": {
            "image/png": "[encoded data removed]",
            "text/plain": [
              "<Figure size 432x288 with 1 Axes>"
            ]
          },
          "metadata": {
            "tags": [],
            "needs_background": "light"
          }
        },
        {
          "output_type": "display_data",
          "data": {
            "image/png": "[encoded data removed]",
            "text/plain": [
              "<Figure size 432x288 with 1 Axes>"
            ]
          },
          "metadata": {
            "tags": [],
            "needs_background": "light"
          }
        },
        {
          "output_type": "display_data",
          "data": {
            "image/png": "[encoded data removed]",
            "text/plain": [
              "<Figure size 432x288 with 1 Axes>"
            ]
          },
          "metadata": {
            "tags": [],
            "needs_background": "light"
          }
        },
        {
          "output_type": "stream",
          "text": [
            "calculated mse 0.16000000000000003\n",
            "theoritical mse 0.16459500000000002\n"
          ],
          "name": "stdout"
        }
      ]
    },
    {
      "cell_type": "code",
      "metadata": {
        "colab": {
          "base_uri": "https://localhost:8080/"
        },
        "id": "h43gB9N2s4it",
        "outputId": "a664e7c4-ea6b-4126-c163-c8065ae8a791"
      },
      "source": [
        "nums = np.random.choice([0, 1], size=1000, p=[.1, .9])\n",
        "print(nums)\n",
        "print(np.mean(nums), np.count_nonzero(nums)/1000)"
      ],
      "execution_count": 8,
      "outputs": [
        {
          "output_type": "stream",
          "text": [
            "[1 1 0 0 1 1 0 1 1 1 1 1 1 1 1 1 1 1 1 1 1 0 1 1 1 1 1 1 1 1 1 1 1 1 1 1 0\n",
            " 1 1 1 1 1 1 1 0 1 1 1 1 1 1 1 1 1 1 0 1 1 1 1 1 1 1 1 0 1 1 1 1 1 1 1 1 1\n",
            " 1 1 0 1 1 1 1 1 1 1 1 1 1 1 1 1 1 1 1 1 1 1 0 1 1 1 0 1 1 1 1 1 1 1 1 1 1\n",
            " 1 1 1 1 1 1 0 1 1 1 1 1 1 0 1 1 1 1 1 1 1 1 1 1 1 1 1 1 1 1 1 1 1 1 1 1 1\n",
            " 1 1 1 1 1 1 1 1 1 1 1 1 1 1 1 1 1 1 1 1 1 1 1 1 0 1 1 1 1 1 1 1 1 1 0 1 1\n",
            " 1 1 1 0 1 1 1 1 1 1 0 0 1 0 0 0 1 1 1 1 1 1 1 1 0 1 1 1 1 1 1 1 1 1 1 1 1\n",
            " 1 1 1 1 0 1 1 1 1 1 1 1 1 1 1 1 1 1 1 1 1 1 1 1 1 1 1 1 1 1 1 1 1 1 1 1 1\n",
            " 1 1 1 0 1 0 1 1 1 1 1 1 1 1 1 1 1 1 1 1 1 1 1 0 1 1 1 1 1 1 1 1 1 1 1 1 1\n",
            " 1 1 1 1 1 1 1 1 1 1 1 1 1 1 1 1 1 1 1 1 1 1 1 1 1 1 1 1 1 1 0 1 1 1 1 0 1\n",
            " 1 1 1 1 1 1 1 0 1 1 1 1 1 0 1 1 1 1 1 1 1 1 1 1 0 1 1 1 1 1 1 1 1 1 1 1 1\n",
            " 1 1 1 1 1 1 1 1 1 1 1 1 1 1 1 1 0 1 1 1 1 0 0 1 0 1 1 1 1 1 1 0 1 1 1 1 1\n",
            " 1 1 0 1 1 1 1 1 1 1 1 1 1 1 1 1 1 1 1 1 1 1 1 1 1 1 1 1 1 1 1 1 1 1 0 0 1\n",
            " 1 1 1 1 1 1 0 1 1 1 1 1 1 1 1 1 1 1 0 1 1 1 1 0 1 1 1 1 1 1 1 1 0 1 1 1 1\n",
            " 0 1 1 1 1 1 1 1 1 1 1 1 1 1 1 1 1 1 1 1 1 1 1 1 1 1 1 1 0 0 1 1 0 1 1 1 1\n",
            " 1 1 1 1 1 1 0 0 1 1 1 1 1 1 1 1 0 1 1 1 1 1 1 1 1 1 1 1 1 1 1 1 1 1 1 1 1\n",
            " 1 1 0 1 1 1 1 0 1 1 1 1 1 1 1 1 1 1 1 1 1 0 1 1 1 0 1 1 1 1 1 0 1 1 0 1 1\n",
            " 1 1 0 1 1 1 1 1 1 0 1 1 1 1 1 1 1 1 1 1 1 0 1 1 0 1 1 0 1 1 0 1 1 1 1 1 1\n",
            " 1 1 1 1 1 1 1 1 1 1 1 1 0 1 1 0 1 1 1 1 1 1 1 1 1 1 1 1 1 1 0 0 1 0 1 1 1\n",
            " 1 1 1 1 1 1 0 1 1 1 1 1 1 0 1 0 1 1 1 1 1 1 1 1 1 1 1 1 1 1 1 1 1 1 1 1 1\n",
            " 1 1 1 1 1 1 1 1 0 1 1 1 1 1 1 0 1 1 1 1 1 1 1 1 1 1 1 1 1 1 1 1 1 1 1 1 0\n",
            " 1 1 1 1 1 1 1 1 1 1 1 1 1 1 1 1 1 1 1 1 1 1 0 1 1 0 1 1 1 1 1 1 1 1 1 0 0\n",
            " 1 1 1 1 1 1 1 1 1 1 1 1 1 1 1 1 1 1 1 1 1 0 1 1 1 1 1 1 0 1 1 1 1 1 1 1 1\n",
            " 1 1 0 1 1 1 1 1 1 1 1 1 1 1 1 1 1 1 1 1 1 1 1 1 1 1 1 1 0 1 1 1 1 1 1 1 1\n",
            " 1 1 1 1 1 0 1 1 1 1 1 1 1 1 1 1 1 1 0 1 1 1 1 1 1 1 1 1 1 1 1 1 1 1 1 0 1\n",
            " 1 1 1 1 1 1 1 0 1 1 1 0 1 1 1 1 1 1 1 1 1 1 1 1 1 1 1 1 1 1 1 1 1 1 1 1 1\n",
            " 1 0 1 1 1 1 0 1 1 1 1 1 1 1 0 1 1 1 1 1 1 1 1 1 1 1 1 1 1 1 1 1 1 1 1 1 1\n",
            " 1 1 1 1 1 1 1 1 1 1 1 1 1 1 1 0 1 1 1 1 1 1 1 1 1 0 1 1 0 0 1 1 1 1 1 1 1\n",
            " 1]\n",
            "0.907 0.907\n"
          ],
          "name": "stdout"
        }
      ]
    },
    {
      "cell_type": "code",
      "metadata": {
        "colab": {
          "base_uri": "https://localhost:8080/"
        },
        "id": "_uqh3CQmvKlr",
        "outputId": "c31679ae-9009-4577-c70d-9a786035f96f"
      },
      "source": [
        "import time\n",
        "\n",
        "w = 100 # simualtion width / fov on the ground\n",
        "a =  20 # size of the target on the ground\n",
        "r = a / w # ratio / mean between target and  \n",
        "d = 2 # movement of the target\n",
        "o_size = 1 # occluder size\n",
        "o_shift = 1 # occluder shift every image\n",
        "o_dens = 0.9 # occlusion density\n",
        "s_mean = 1.0 # signal mean\n",
        "N = 20 # number of images recorded\n",
        "M = N if d<=0 else max(min(a/d,N),1) # number of overlaps with moving [1 ... N].\n",
        "\n",
        "sim_trails = 100 # number of simulation trails\n",
        "\n",
        "def simulate(w,N,a,d,s_mean,o_dens,o_size,o_shift):\n",
        "  # create occlusion with a certain density\n",
        "  occlimage = np.random.choice([0, 1], size=(1,int(w/o_size)), p=[o_dens, 1-o_dens]) #np.random.binomial(n=1, p=1-o_dens, size=(1,50))\n",
        "  occlimage = occlimage.repeat(o_size, axis=1)\n",
        "\n",
        "  # create signal\n",
        "  sx,sy = int(a), int(a)\n",
        "  single = np.zeros((1,w))\n",
        "  x,y = sx + d, sy\n",
        "  single[:,x:x+a] = s_mean\n",
        "\n",
        "  # move occlusion by o_shift and signal by d N times.\n",
        "  def mov(img,dist,iter):\n",
        "    return np.roll(img, iter*dist)\n",
        "  images = np.stack( list( map(lambda i : mov(single,d,i) ,range(N)) ), axis=2 )\n",
        "  occls  = np.stack( list( map(lambda i : mov(occlimage,-o_shift,i) ,range(N)) ), axis=2 )\n",
        "\n",
        "  # GT average image:\n",
        "  gt_avg = (np.mean(images,axis=2))\n",
        "  # non-noise count: print(np.sum(occls,axis=2))\n",
        "\n",
        "  # integral image:\n",
        "  integral = np.mean(images*occls,axis=2)\n",
        "\n",
        "  # compute MSE\n",
        "  if d==0:\n",
        "    mask = single > 0\n",
        "  else:\n",
        "    mask = np.zeros((1,w),dtype=np.bool8)\n",
        "    mask[:,sx+a:sx +  N*d] = True\n",
        "  #print(gt_avg[mask])\n",
        "\n",
        "  z_mean,z_var = np.mean(gt_avg[mask]), np.var(gt_avg[mask])\n",
        "  assert( z_var == 0 )\n",
        "  assert( z_mean == s_mean * M / N )\n",
        "\n",
        "  # simulate MSE\n",
        "  mse = np.square(integral[mask] - s_mean).mean(axis=None)\n",
        "  return mse\n",
        "\n",
        "tic = time.perf_counter()\n",
        "print( np.mean( [ simulate(w,N,a,d,s_mean,o_dens,o_size,o_shift) for i in range(sim_trails) ] )  )\n",
        "toc = time.perf_counter()\n",
        "print(f\"simualtion took {toc - tic:0.4f} seconds\")\n",
        "\n",
        "\n",
        "print( theoritcal_MSE(s_mean,0,0,0,o_dens,N,int(M)) )\n"
      ],
      "execution_count": 132,
      "outputs": [
        {
          "output_type": "stream",
          "text": [
            "0.90513375\n",
            "simualtion took 0.0951 seconds\n",
            "0.9047499999999999\n"
          ],
          "name": "stdout"
        }
      ]
    },
    {
      "cell_type": "code",
      "metadata": {
        "id": "ClIIOJ2Gouh1",
        "outputId": "1d81f300-b6f6-4073-fa8e-81ad8e2629f2",
        "colab": {
          "base_uri": "https://localhost:8080/",
          "height": 439
        }
      },
      "source": [
        "# run over multiple Ms and Ds\n",
        "\n",
        "N = 20\n",
        "a = N\n",
        "\n",
        "sim_trails = 100 # number of simulation trails\n",
        "\n",
        "Ds = list(np.linspace(0.0, 1.0, 30))\n",
        "Ms = list(range(1,N+1))\n",
        "\n",
        "sim_mses = np.zeros((len(Ds),len(Ms)))\n",
        "clc_mses = np.zeros_like(sim_mses)\n",
        "\n",
        "for D in Ds:\n",
        "  for M in Ms:\n",
        "    try:\n",
        "      sim_mses[Ds.index(D), Ms.index(M)] = np.mean( [ simulate(w,N,a,int(a/M),s_mean,o_dens,o_size,o_shift) for i in range(sim_trails) ] ) \n",
        "    except:\n",
        "      sim_mses[Ds.index(D), Ms.index(M)] = np.nan\n",
        "    clc_mses[Ds.index(D), Ms.index(M)] = theoritcal_MSE(s_mean,0,0,0,D,N,int(M))\n",
        "\n",
        "plt.subplot(121)\n",
        "im = imshow(clc_mses)\n",
        "plt.yticks(range(len(Ds)),[ '{:0.4f}'.format(d) for d in Ds]), plt.xticks(range(len(Ms)),Ms)\n",
        "plt.ylabel('D'), plt.xlabel('M')\n",
        "plt.title( 'MSE' )\n",
        "plt.axis('on')\n",
        "plt.colorbar(im)\n",
        "plt.subplot(122)\n",
        "im = imshow(sim_mses)\n",
        "plt.yticks(range(len(Ds)),[ '{:0.4f}'.format(d) for d in Ds]), plt.xticks(range(len(Ms)),Ms)\n",
        "plt.ylabel('D'), plt.xlabel('M')\n",
        "plt.title( 'MSE' )\n",
        "plt.axis('on')\n",
        "plt.colorbar(im)\n",
        "plt.show()\n",
        "#print(clc_mses)"
      ],
      "execution_count": 136,
      "outputs": [
        {
          "output_type": "stream",
          "text": [
            "/usr/local/lib/python3.7/dist-packages/numpy/core/fromnumeric.py:3373: RuntimeWarning: Mean of empty slice.\n",
            "  out=out, **kwargs)\n",
            "/usr/local/lib/python3.7/dist-packages/numpy/core/_methods.py:170: RuntimeWarning: invalid value encountered in double_scalars\n",
            "  ret = ret.dtype.type(ret / rcount)\n",
            "/usr/local/lib/python3.7/dist-packages/numpy/core/fromnumeric.py:3622: RuntimeWarning: Degrees of freedom <= 0 for slice\n",
            "  **kwargs)\n",
            "/usr/local/lib/python3.7/dist-packages/numpy/core/_methods.py:195: RuntimeWarning: invalid value encountered in true_divide\n",
            "  arrmean, rcount, out=arrmean, casting='unsafe', subok=False)\n",
            "/usr/local/lib/python3.7/dist-packages/numpy/core/_methods.py:226: RuntimeWarning: invalid value encountered in double_scalars\n",
            "  ret = ret.dtype.type(ret / rcount)\n"
          ],
          "name": "stderr"
        },
        {
          "output_type": "display_data",
          "data": {
            "image/png": "[encoded data removed]",
            "text/plain": [
              "<Figure size 432x288 with 4 Axes>"
            ]
          },
          "metadata": {
            "tags": [],
            "needs_background": "light"
          }
        }
      ]
    },
    {
      "cell_type": "code",
      "metadata": {
        "id": "eu7pzymhsHb-",
        "outputId": "c0543b4b-07bd-470e-f6e4-101af2288eec",
        "colab": {
          "base_uri": "https://localhost:8080/"
        }
      },
      "source": [
        "Ms.index(M)"
      ],
      "execution_count": 88,
      "outputs": [
        {
          "output_type": "execute_result",
          "data": {
            "text/plain": [
              "19"
            ]
          },
          "metadata": {
            "tags": []
          },
          "execution_count": 88
        }
      ]
    }
  ]
}