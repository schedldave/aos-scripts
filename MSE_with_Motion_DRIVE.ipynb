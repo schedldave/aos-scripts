{
  "nbformat": 4,
  "nbformat_minor": 0,
  "metadata": {
    "colab": {
      "name": "MSE with Motion_DRIVE",
      "provenance": [],
      "collapsed_sections": [],
      "include_colab_link": true
    },
    "kernelspec": {
      "name": "python3",
      "display_name": "Python 3"
    },
    "language_info": {
      "name": "python"
    }
  },
  "cells": [
    {
      "cell_type": "markdown",
      "metadata": {
        "id": "view-in-github",
        "colab_type": "text"
      },
      "source": [
        "<a href=\"https://colab.research.google.com/github/schedldave/aos-scripts/blob/main/MSE_with_Motion_DRIVE.ipynb\" target=\"_parent\"><img src=\"https://colab.research.google.com/assets/colab-badge.svg\" alt=\"Open In Colab\"/></a>"
      ]
    },
    {
      "cell_type": "code",
      "metadata": {
        "id": "U50WLRkSBocg"
      },
      "source": [
        "import numpy as np\n",
        "import cv2\n",
        "import matplotlib.pyplot as plt\n",
        "\n",
        "\n",
        "# utility function(s)\n",
        "def imshow(image, *args, **kwargs):\n",
        "    \"\"\"A replacement for cv2.imshow() for use in Jupyter notebooks using matplotlib.\n",
        "\n",
        "        Args:\n",
        "          image : np.ndarray. shape (N, M) or (N, M, 1) is an NxM grayscale image. shape\n",
        "            (N, M, 3) is an NxM BGR color image. \n",
        "    \"\"\"\n",
        "    if len(image.shape) == 3:\n",
        "      # Height, width, channels\n",
        "      # Assume BGR, do a conversion  \n",
        "      image = cv2.cvtColor(image, cv2.COLOR_BGR2RGB)\n",
        "\n",
        "    # Draw the image\n",
        "    plt.imshow(image, *args, **kwargs)\n",
        "    # We'll also disable drawing the axes and tick marks in the plot, since it's actually an image\n",
        "    plt.axis('off')\n",
        "    # Make sure it outputs\n",
        "    # plt.show()"
      ],
      "execution_count": 3,
      "outputs": []
    },
    {
      "cell_type": "markdown",
      "metadata": {
        "id": "iPsbrmoJqK0m"
      },
      "source": [
        "A single binary view (area: $w \\times w$) is composed of zero background and of a target of size $a \\times a$. The mean and variance of such a 2D view are \n",
        "$$\n",
        "\\mu = \\frac{a^2}{w^2} \\\\\n",
        "\\sigma = \\mu(\\mu-1)^2 + (1-\\mu)(\\mu-0)^2 =  \\mu - \\mu^2\n",
        "$$\n",
        ", where the mean ($\\mu$) also describes the size relation of the target with respect to the view. The term $(\\mu-1)^2$ is the variance computation in the target and $(\\mu-0)^2 = \\mu^2$ the variance for the background.\n",
        "\n",
        "The code below shows such an example:"
      ]
    },
    {
      "cell_type": "code",
      "metadata": {
        "colab": {
          "base_uri": "https://localhost:8080/",
          "height": 264
        },
        "id": "lcMr1P_-B7bc",
        "outputId": "8288abe3-5a6b-478d-ce25-5ee4acef483f"
      },
      "source": [
        "w = 300\n",
        "a =  50\n",
        "sx,sy = int(w/3), int(w/3)\n",
        "\n",
        "single = np.zeros((300,300))\n",
        "single[sx:sx+a,sy:sy+a] = 1.0\n",
        "\n",
        "imshow(single)\n",
        "plt.title( 'mean: {}, var: {}'.format(np.mean(single), np.var(single)))\n",
        "plt.show()"
      ],
      "execution_count": 4,
      "outputs": [
        {
          "output_type": "display_data",
          "data": {
            "image/png": "[encoded data removed]",
            "text/plain": [
              "<Figure size 432x288 with 1 Axes>"
            ]
          },
          "metadata": {
            "tags": [],
            "needs_background": "light"
          }
        }
      ]
    },
    {
      "cell_type": "markdown",
      "metadata": {
        "id": "SyWhnSbssdgr"
      },
      "source": [
        "If multiple such single views are averaged (as typically done in AOS) it has no effect on the variance and mean as long as the target is perfectly registered. \n",
        "\n",
        "If the target, however, is not registered (e.g., a moving target or by defocus) the statistics change. \n",
        "Let's first look at the extreme case, where the averaged targets are not overlapping anymore. This is showcased below by introducing a shift $d$ for $N$ images.\n",
        "The mean ($\\mu$) is not altered, but the variance changes:\n",
        "$$\n",
        "\\sigma = N\\mu(\\mu-\\frac{1}{N})^2 + (1-N\\mu)(\\mu-0)^2 =  \\frac{\\mu}{N} - \\mu^2 \\text{.}\n",
        "$$\n",
        "The change of $\\sigma$ is inverse proportional to $N$. Note that $N\\mu$ describes the area covered by the non-overlapping instances of the target. "
      ]
    },
    {
      "cell_type": "code",
      "metadata": {
        "colab": {
          "base_uri": "https://localhost:8080/",
          "height": 298
        },
        "id": "hlOm7fXbC9Oz",
        "outputId": "e7077d4d-ca4e-4924-8ca6-49b13e17f1c3"
      },
      "source": [
        "w = 300\n",
        "a =  20\n",
        "r = a*a / w**2 # ratio/mean\n",
        "print(r)\n",
        "d = 25\n",
        "N = 10\n",
        "sx,sy = int(a), int(a)\n",
        "sum = np.zeros((w,w))\n",
        "\n",
        "for i in range(N):\n",
        "  single = np.zeros((w,w))\n",
        "  x,y = sx + i*d, sy\n",
        "  single[x:x+a,y:y+a] = 1.0\n",
        "  sum += single\n",
        "\n",
        "sum = sum/N\n",
        "\n",
        "imshow(sum, vmin=0.0, vmax=1.0)\n",
        "plt.title( 'mean: {}, var: {}'.format(np.mean(sum), np.var(sum)))\n",
        "plt.show()\n",
        "\n",
        "# variance computation\n",
        "v_overlap = r - r**2\n",
        "v_nonoverlap = r/N - r**2\n",
        "print('var (non-overlap): {}'.format( v_nonoverlap ) )\n"
      ],
      "execution_count": 5,
      "outputs": [
        {
          "output_type": "stream",
          "text": [
            "0.0044444444444444444\n"
          ],
          "name": "stdout"
        },
        {
          "output_type": "display_data",
          "data": {
            "image/png": "[encoded data removed]",
            "text/plain": [
              "<Figure size 432x288 with 1 Axes>"
            ]
          },
          "metadata": {
            "tags": [],
            "needs_background": "light"
          }
        },
        {
          "output_type": "stream",
          "text": [
            "var (non-overlap): 0.00042469135802469137\n"
          ],
          "name": "stdout"
        }
      ]
    },
    {
      "cell_type": "markdown",
      "metadata": {
        "id": "icUep5Q1vkXl"
      },
      "source": [
        "If the shift $d$ is less then the target size $a$ $(d < a)$ the targets will overlap in the integral image. For simplicity we will just look at the problem in 1D now. \n",
        "The area (normalized by the area size) that is covered by the non-overlapping targets can be expressed by \n",
        "$$\n",
        "  g = \\frac{d(N-1)+a}{w}\n",
        "$$\n",
        "and the number of overlaps is expressed by \n",
        "$$\n",
        "  M = \\frac{a}{d}\n",
        "$$\n",
        ", where it has to be ensured that $M$ does not exceed $N$. \n",
        "Furthermore, there will be different regions with a varying amount of overlap. For example a target with $a=5$ a shift of $d=2$ and $N=7$ results in 4 regions without overlap in 8 regions where two target instances overlap and 5 regions with an overlap of three targets. Note that this is illustrated in the example below. Furthermore, in this simulation a region is a pixel or array cell. \n",
        "\n",
        "To compute the variance the different overlaps have to be considered. We introduce this as a count $c_i$, where $i$ is the number of overlapping targets. In the example this results in $c_1=4, c_2=8$, and $c_3=5$.\n",
        "The equation to compute the variance thus expands to\n",
        "$$\n",
        "  \\sigma = (1-g)\\mu^2 + \\frac{1}{w} \\sum_i c_i (\\mu - \\frac{i}{N})^2 \\\\\n",
        "   =  \\mu^2 - \\frac{2\\mu}{Nw} \\sum_i c_i i + \\frac{1}{N^2w} \\sum_i c_i i^2 \\text{.}\n",
        "$$\n",
        "By subsituting $\\mu = a/w$ (in 1D) it further simplifies to\n",
        "$$\n",
        "  \\sigma =  \\frac{a^2}{w^2} - \\frac{2a}{Nw^2} \\sum_i{ c_i i }+ \\frac{1}{N^2w} \\sum_i c_i i^2 \\text{.}\n",
        "$$\n",
        "\n",
        "Note that it is propably impractical to always compute $c_i$ so it might be possible to simplify or approximate these terms. A first attempt would be to approximate the terms by\n",
        "$$\n",
        " \\sum_i{ c_i i }   \\approx M (d (N-1-M)+a) \\\\\n",
        " \\sum_i{ c_i i^2 } \\approx M^2 (d (N-1-M)+a) \\text{.}\n",
        "$$\n",
        "This, however does not allways lead to close results (see below). \n",
        "\n"
      ]
    },
    {
      "cell_type": "code",
      "metadata": {
        "colab": {
          "base_uri": "https://localhost:8080/",
          "height": 143
        },
        "id": "Ig3YnjtzPRHZ",
        "outputId": "1fe31142-5546-4182-d5c9-5cc81ff66810"
      },
      "source": [
        "w = 30\n",
        "a =  5\n",
        "r = a / w # ratio/mean\n",
        "print(r)\n",
        "d = 2\n",
        "N = 7\n",
        "sx,sy = int(a), int(a)\n",
        "sum = np.zeros((1,w))\n",
        "\n",
        "for i in range(N):\n",
        "  single = np.zeros_like(sum)\n",
        "  x,y = sx + i*d, sy\n",
        "  single[:,x:x+a] = 1.0\n",
        "  sum += single\n",
        "\n",
        "count,bins=np.histogram(sum, bins=np.arange(np.max(sum)+2))\n",
        "print(count) \n",
        "print(np.asarray(bins[:-1],dtype=np.int16))\n",
        "sum = sum/N\n",
        "\n",
        "imshow(sum, vmin=0.0, vmax=1.0)\n",
        "plt.title( 'mean: {}, var: {}'.format(np.mean(sum), np.var(sum)))\n",
        "plt.show()\n",
        "\n",
        "# variance computation\n",
        "if d<=0:\n",
        "  M = N\n",
        "else:\n",
        "  M = max(min(a/d,N),1)\n",
        "\n",
        "v_overlap = r - r**2        # assuming everything is overlapping\n",
        "v_nonoverlap = r/N - r**2   # assuming nothing is overlapping in the integral\n",
        "\n",
        "term1 = np.sum(bins[:-1] * count)\n",
        "term2 = np.sum(bins[:-1]**2 * count)\n",
        "v = a**2/w**2 - 2*a/(N*w**2)*term1 + 1/(N**2*w)*term2\n",
        "print('var (new): {}'.format( v ) )\n",
        "\n",
        "# approximate term1 and term2\n",
        "term1_ = M * (d*(N-1-M)+a)\n",
        "term2_ = term1_ * M\n",
        "v_ = a**2/w**2 - 2*a/(N*w**2)*term1_ + 1/(N**2*w)*term2_\n",
        "print('var (approx): {}'.format( v_ ) )\n",
        "\n"
      ],
      "execution_count": 6,
      "outputs": [
        {
          "output_type": "stream",
          "text": [
            "0.16666666666666666\n",
            "[13  4  8  5]\n",
            "[0 1 2 3]\n"
          ],
          "name": "stdout"
        },
        {
          "output_type": "display_data",
          "data": {
            "image/png": "[encoded data removed]",
            "text/plain": [
              "<Figure size 432x288 with 1 Axes>"
            ]
          },
          "metadata": {
            "tags": [],
            "needs_background": "light"
          }
        },
        {
          "output_type": "stream",
          "text": [
            "var (new): 0.02732426303854875\n",
            "var (approx): 0.03117913832199546\n"
          ],
          "name": "stdout"
        }
      ]
    },
    {
      "cell_type": "markdown",
      "metadata": {
        "id": "ojGWvGUyAHGE"
      },
      "source": [
        "In this section, we discuss the statistical model of the\n",
        "$MSE$ between an integral image $X$ and an hypothetical\n",
        "occlusion-free reference $S$ . \n",
        "$$\n",
        "MSE = E[(X- S)^2] = E[X^2] -2E[XS] +E[S^2]\n",
        "$$"
      ]
    },
    {
      "cell_type": "markdown",
      "metadata": {
        "id": "Q2tcpUKFfVrU"
      },
      "source": [
        "Below is theorithical MSE calulation provided ( signal mean, siganl variance, occluder mean, occluder variance, occluder density, no of integrated images, numof overlapping images)\n",
        "\n",
        "--- Current Equation works when number of overlapping images images are integers ( i.e image size is multiple of shipt)"
      ]
    },
    {
      "cell_type": "code",
      "metadata": {
        "id": "JfJT8WEjDRBL"
      },
      "source": [
        "def theoritcal_MSE(signalmean,signalvar,occlmean,occlvar,occldens,noofintegratedimage,numofover):\n",
        "  MSE = ((1-(numofover*(1-occldens)/noofintegratedimage))**2 + (numofover*occldens*(1-occldens)/(noofintegratedimage**2)))*(signalvar+(occlmean-signalmean)**2) + (((numofover*occldens+noofintegratedimage-numofover)/(noofintegratedimage**2))*occlvar)\n",
        "  return MSE"
      ],
      "execution_count": 7,
      "outputs": []
    },
    {
      "cell_type": "markdown",
      "metadata": {
        "id": "ginGvIP1gJNs"
      },
      "source": [
        "Below we measure mse when no occlusion is present in 1D Case"
      ]
    },
    {
      "cell_type": "code",
      "metadata": {
        "id": "nLUyUy_LFFkO",
        "colab": {
          "base_uri": "https://localhost:8080/",
          "height": 347
        },
        "outputId": "6a78fdf4-4946-498b-b1c2-80374c04be44"
      },
      "source": [
        "w = 100\n",
        "a =  15\n",
        "r = a / w # ratio/mean\n",
        "print(r)\n",
        "d = 5\n",
        "N = 10\n",
        "signalmean = 0.5\n",
        "sx,sy = int(a), int(a)\n",
        "sum = np.zeros((1,w))\n",
        "singleimagearray =[]\n",
        "for i in range(N):\n",
        "  single = np.zeros_like(sum)\n",
        "  x,y = sx + i*d, sy\n",
        "  single[:,x:x+a] = signalmean\n",
        "  imshow(single, vmin=0.0, vmax=1.0)\n",
        "  plt.show()\n",
        "  singleimagearray.append(single)\n",
        "  sum += single\n",
        "sum = sum/N\n",
        "imshow(sum, vmin=0.0, vmax=1.0)\n",
        "plt.title( 'mean: {}, var: {}'.format(np.mean(sum), np.var(sum)))\n",
        "plt.show()\n",
        "#####Calculate Mean square error#############\n",
        "noofpix = d\n",
        "x,y = sx + 0*d, sy\n",
        "endx,endy = sx + (N-2)*d, sy\n",
        "imshow(sum[:,x+a-noofpix:endx+a-noofpix], vmin=0.0, vmax=1.0)\n",
        "plt.title( 'Integrated Signal mean: {}, var: {}'.format(np.mean(sum[:,x+a-noofpix:endx+a-noofpix]), np.var(sum[:,x+a-noofpix:endx+a-noofpix])))\n",
        "plt.show() \n",
        "nopa = sum[:,x+a-noofpix:endx+a-noofpix]\n",
        "nop = len(nopa)\n",
        "sourcesingle = np.zeros((1,w))\n",
        "sourcesingle[:,x+a-noofpix:endx+a-noofpix] = signalmean\n",
        "imshow(sourcesingle[:,x+a-noofpix:endx+a-noofpix], vmin=0.0, vmax=1.0)\n",
        "plt.title( 'Source Signal mean: {}, var: {}'.format(np.mean(sourcesingle[:,x+a-noofpix:endx+a-noofpix]), np.var(sourcesingle[:,x+a-noofpix:endx+a-noofpix])))\n",
        "plt.show() \n",
        "calcmse = np.mean((sum[:,x+a-noofpix:endx+a-noofpix] - sourcesingle[:,x+a-noofpix:endx+a-noofpix])**2)\n",
        "print(\"calculated mse\",calcmse)\n",
        "theoriticalmse = theoritcal_MSE(0.5,0,0,0,0,N,int(a/d))\n",
        "print(\"theoritical mse\",theoriticalmse)"
      ],
      "execution_count": 8,
      "outputs": [
        {
          "output_type": "stream",
          "text": [
            "0.15\n"
          ],
          "name": "stdout"
        },
        {
          "output_type": "display_data",
          "data": {
            "image/png": "[encoded data removed]",
            "text/plain": [
              "<Figure size 432x288 with 1 Axes>"
            ]
          },
          "metadata": {
            "tags": [],
            "needs_background": "light"
          }
        },
        {
          "output_type": "display_data",
          "data": {
            "image/png": "[encoded data removed]",
            "text/plain": [
              "<Figure size 432x288 with 1 Axes>"
            ]
          },
          "metadata": {
            "tags": [],
            "needs_background": "light"
          }
        },
        {
          "output_type": "display_data",
          "data": {
            "image/png": "[encoded data removed]",
            "text/plain": [
              "<Figure size 432x288 with 1 Axes>"
            ]
          },
          "metadata": {
            "tags": [],
            "needs_background": "light"
          }
        },
        {
          "output_type": "display_data",
          "data": {
            "image/png": "[encoded data removed]",
            "text/plain": [
              "<Figure size 432x288 with 1 Axes>"
            ]
          },
          "metadata": {
            "tags": [],
            "needs_background": "light"
          }
        },
        {
          "output_type": "display_data",
          "data": {
            "image/png": "[encoded data removed]",
            "text/plain": [
              "<Figure size 432x288 with 1 Axes>"
            ]
          },
          "metadata": {
            "tags": [],
            "needs_background": "light"
          }
        },
        {
          "output_type": "display_data",
          "data": {
            "image/png": "[encoded data removed]",
            "text/plain": [
              "<Figure size 432x288 with 1 Axes>"
            ]
          },
          "metadata": {
            "tags": [],
            "needs_background": "light"
          }
        },
        {
          "output_type": "display_data",
          "data": {
            "image/png": "[encoded data removed]",
            "text/plain": [
              "<Figure size 432x288 with 1 Axes>"
            ]
          },
          "metadata": {
            "tags": [],
            "needs_background": "light"
          }
        },
        {
          "output_type": "display_data",
          "data": {
            "image/png": "[encoded data removed]",
            "text/plain": [
              "<Figure size 432x288 with 1 Axes>"
            ]
          },
          "metadata": {
            "tags": [],
            "needs_background": "light"
          }
        },
        {
          "output_type": "display_data",
          "data": {
            "image/png": "[encoded data removed]",
            "text/plain": [
              "<Figure size 432x288 with 1 Axes>"
            ]
          },
          "metadata": {
            "tags": [],
            "needs_background": "light"
          }
        },
        {
          "output_type": "display_data",
          "data": {
            "image/png": "[encoded data removed]",
            "text/plain": [
              "<Figure size 432x288 with 1 Axes>"
            ]
          },
          "metadata": {
            "tags": [],
            "needs_background": "light"
          }
        },
        {
          "output_type": "display_data",
          "data": {
            "image/png": "[encoded data removed]",
            "text/plain": [
              "<Figure size 432x288 with 1 Axes>"
            ]
          },
          "metadata": {
            "tags": [],
            "needs_background": "light"
          }
        },
        {
          "output_type": "display_data",
          "data": {
            "image/png": "[encoded data removed]",
            "text/plain": [
              "<Figure size 432x288 with 1 Axes>"
            ]
          },
          "metadata": {
            "tags": [],
            "needs_background": "light"
          }
        },
        {
          "output_type": "display_data",
          "data": {
            "image/png": "[encoded data removed]",
            "text/plain": [
              "<Figure size 432x288 with 1 Axes>"
            ]
          },
          "metadata": {
            "tags": [],
            "needs_background": "light"
          }
        },
        {
          "output_type": "stream",
          "text": [
            "calculated mse 0.12249999999999998\n",
            "theoritical mse 0.12249999999999998\n"
          ],
          "name": "stdout"
        }
      ]
    },
    {
      "cell_type": "markdown",
      "metadata": {
        "id": "yQY5SqOYgWe6"
      },
      "source": [
        "Below we measure when occlusion are randomly present with Density D"
      ]
    },
    {
      "cell_type": "code",
      "metadata": {
        "colab": {
          "base_uri": "https://localhost:8080/",
          "height": 950
        },
        "id": "u9gLrEBAfR2x",
        "outputId": "d38b3f76-3cb4-44e2-e2dd-c2526192bb7e"
      },
      "source": [
        "w = 100\n",
        "a =  10\n",
        "r = a / w # ratio/mean\n",
        "print(r)\n",
        "d = 2\n",
        "o_size = 2\n",
        "o_shift = 2\n",
        "o_dens = 0.2\n",
        "N = 20\n",
        "\n",
        "sx,sy = int(a), int(a)\n",
        "sum = np.zeros((1,w))\n",
        "singleimagearray =[]\n",
        "occlimage = np.random.choice([0, 1], size=(1,50), p=[o_dens, 1-o_dens]) #np.random.binomial(n=1, p=1-o_dens, size=(1,50))\n",
        "print(np.mean(occlimage), np.count_nonzero(occlimage), np.count_nonzero(occlimage)/50)\n",
        "imshow(occlimage, vmin=0.0, vmax=1.0)\n",
        "plt.show()\n",
        "occlimage = occlimage.repeat(o_size, axis=1)\n",
        "meas_dens = 1 - np.count_nonzero(occlimage)/100\n",
        "print(np.mean(occlimage), np.count_nonzero(occlimage),np.count_nonzero(occlimage)/100)\n",
        "imshow(occlimage, vmin=0.0, vmax=1.0)\n",
        "plt.show()\n",
        "shiftedocclimage = np.roll(occlimage, 2)\n",
        "imshow(shiftedocclimage, vmin=0.0, vmax=1.0)\n",
        "plt.show()\n",
        "for i in range(N):\n",
        "  single = np.zeros_like(sum)\n",
        "  x,y = sx + i*d, sy\n",
        "  single[:,x:x+a] = 0.5\n",
        "  shiftedocclimage = np.roll(occlimage, i*o_shift)\n",
        "  imshow(shiftedocclimage, vmin=0.0, vmax=1.0)\n",
        "  plt.show()\n",
        "  single = single * shiftedocclimage\n",
        "  imshow(single, vmin=0.0, vmax=1.0)\n",
        "  plt.show()\n",
        "  singleimagearray.append(single)\n",
        "  sum += single\n",
        "sum = sum/N\n",
        "imshow(sum, vmin=0.0, vmax=1.0)\n",
        "plt.title( 'mean: {}, var: {}'.format(np.mean(sum), np.var(sum)))\n",
        "plt.show()\n",
        "#####Calculate Mean square error#############\n",
        "noofpix = d\n",
        "x,y = sx + 0*d, sy\n",
        "endx,endy = sx + (N-4)*d, sy\n",
        "imshow(sum[:,x+a-noofpix:endx+a-noofpix], vmin=0.0, vmax=1.0)\n",
        "plt.title( 'Integrated Signal mean: {}, var: {}'.format(np.mean(sum[:,x+a-noofpix:endx+a-noofpix]), np.var(sum[:,x+a-noofpix:endx+a-noofpix])))\n",
        "plt.show() \n",
        "nopa = sum[:,x+a-noofpix:endx+a-noofpix]\n",
        "nop = len(nopa)\n",
        "sourcesingle = np.zeros((1,w))\n",
        "sourcesingle[:,x+a-noofpix:endx+a-noofpix] = signalmean\n",
        "imshow(sourcesingle[:,x+a-noofpix:endx+a-noofpix], vmin=0.0, vmax=1.0)\n",
        "plt.title( 'Source Signal mean: {}, var: {}'.format(np.mean(sourcesingle[:,x+a-noofpix:endx+a-noofpix]), np.var(sourcesingle[:,x+a-noofpix:endx+a-noofpix])))\n",
        "plt.show() \n",
        "calcmse = np.mean((sum[:,x+a-noofpix:endx+a-noofpix] - sourcesingle[:,x+a-noofpix:endx+a-noofpix])**2)\n",
        "print(\"calculated mse\",calcmse)\n",
        "theoriticalmse = theoritcal_MSE(0.5,0,0,0,meas_dens,N,int(a/d))\n",
        "print(\"theoritical mse\",theoriticalmse)"
      ],
      "execution_count": 9,
      "outputs": [
        {
          "output_type": "stream",
          "text": [
            "0.1\n",
            "0.76 38 0.76\n"
          ],
          "name": "stdout"
        },
        {
          "output_type": "display_data",
          "data": {
            "image/png": "[encoded data removed]",
            "text/plain": [
              "<Figure size 432x288 with 1 Axes>"
            ]
          },
          "metadata": {
            "tags": [],
            "needs_background": "light"
          }
        },
        {
          "output_type": "stream",
          "text": [
            "0.76 76 0.76\n"
          ],
          "name": "stdout"
        },
        {
          "output_type": "display_data",
          "data": {
            "image/png": "[encoded data removed]",
            "text/plain": [
              "<Figure size 432x288 with 1 Axes>"
            ]
          },
          "metadata": {
            "tags": [],
            "needs_background": "light"
          }
        },
        {
          "output_type": "display_data",
          "data": {
            "image/png": "[encoded data removed]",
            "text/plain": [
              "<Figure size 432x288 with 1 Axes>"
            ]
          },
          "metadata": {
            "tags": [],
            "needs_background": "light"
          }
        },
        {
          "output_type": "display_data",
          "data": {
            "image/png": "[encoded data removed]",
            "text/plain": [
              "<Figure size 432x288 with 1 Axes>"
            ]
          },
          "metadata": {
            "tags": [],
            "needs_background": "light"
          }
        },
        {
          "output_type": "display_data",
          "data": {
            "image/png": "[encoded data removed]",
            "text/plain": [
              "<Figure size 432x288 with 1 Axes>"
            ]
          },
          "metadata": {
            "tags": [],
            "needs_background": "light"
          }
        },
        {
          "output_type": "display_data",
          "data": {
            "image/png": "[encoded data removed]",
            "text/plain": [
              "<Figure size 432x288 with 1 Axes>"
            ]
          },
          "metadata": {
            "tags": [],
            "needs_background": "light"
          }
        },
        {
          "output_type": "display_data",
          "data": {
            "image/png": "[encoded data removed]",
            "text/plain": [
              "<Figure size 432x288 with 1 Axes>"
            ]
          },
          "metadata": {
            "tags": [],
            "needs_background": "light"
          }
        },
        {
          "output_type": "display_data",
          "data": {
            "image/png": "[encoded data removed]",
            "text/plain": [
              "<Figure size 432x288 with 1 Axes>"
            ]
          },
          "metadata": {
            "tags": [],
            "needs_background": "light"
          }
        },
        {
          "output_type": "display_data",
          "data": {
            "image/png": "[encoded data removed]",
            "text/plain": [
              "<Figure size 432x288 with 1 Axes>"
            ]
          },
          "metadata": {
            "tags": [],
            "needs_background": "light"
          }
        },
        {
          "output_type": "display_data",
          "data": {
            "image/png": "[encoded data removed]",
            "text/plain": [
              "<Figure size 432x288 with 1 Axes>"
            ]
          },
          "metadata": {
            "tags": [],
            "needs_background": "light"
          }
        },
        {
          "output_type": "display_data",
          "data": {
            "image/png": "[encoded data removed]",
            "text/plain": [
              "<Figure size 432x288 with 1 Axes>"
            ]
          },
          "metadata": {
            "tags": [],
            "needs_background": "light"
          }
        },
        {
          "output_type": "display_data",
          "data": {
            "image/png": "[encoded data removed]",
            "text/plain": [
              "<Figure size 432x288 with 1 Axes>"
            ]
          },
          "metadata": {
            "tags": [],
            "needs_background": "light"
          }
        },
        {
          "output_type": "display_data",
          "data": {
            "image/png": "[encoded data removed]",
            "text/plain": [
              "<Figure size 432x288 with 1 Axes>"
            ]
          },
          "metadata": {
            "tags": [],
            "needs_background": "light"
          }
        },
        {
          "output_type": "display_data",
          "data": {
            "image/png": "[encoded data removed]",
            "text/plain": [
              "<Figure size 432x288 with 1 Axes>"
            ]
          },
          "metadata": {
            "tags": [],
            "needs_background": "light"
          }
        },
        {
          "output_type": "display_data",
          "data": {
            "image/png": "[encoded data removed]",
            "text/plain": [
              "<Figure size 432x288 with 1 Axes>"
            ]
          },
          "metadata": {
            "tags": [],
            "needs_background": "light"
          }
        },
        {
          "output_type": "display_data",
          "data": {
            "image/png": "[encoded data removed]",
            "text/plain": [
              "<Figure size 432x288 with 1 Axes>"
            ]
          },
          "metadata": {
            "tags": [],
            "needs_background": "light"
          }
        },
        {
          "output_type": "display_data",
          "data": {
            "image/png": "[encoded data removed]",
            "text/plain": [
              "<Figure size 432x288 with 1 Axes>"
            ]
          },
          "metadata": {
            "tags": [],
            "needs_background": "light"
          }
        },
        {
          "output_type": "display_data",
          "data": {
            "image/png": "[encoded data removed]",
            "text/plain": [
              "<Figure size 432x288 with 1 Axes>"
            ]
          },
          "metadata": {
            "tags": [],
            "needs_background": "light"
          }
        },
        {
          "output_type": "display_data",
          "data": {
            "image/png": "[encoded data removed]",
            "text/plain": [
              "<Figure size 432x288 with 1 Axes>"
            ]
          },
          "metadata": {
            "tags": [],
            "needs_background": "light"
          }
        },
        {
          "output_type": "display_data",
          "data": {
            "image/png": "[encoded data removed]",
            "text/plain": [
              "<Figure size 432x288 with 1 Axes>"
            ]
          },
          "metadata": {
            "tags": [],
            "needs_background": "light"
          }
        },
        {
          "output_type": "display_data",
          "data": {
            "image/png": "[encoded data removed]",
            "text/plain": [
              "<Figure size 432x288 with 1 Axes>"
            ]
          },
          "metadata": {
            "tags": [],
            "needs_background": "light"
          }
        },
        {
          "output_type": "display_data",
          "data": {
            "image/png": "[encoded data removed]",
            "text/plain": [
              "<Figure size 432x288 with 1 Axes>"
            ]
          },
          "metadata": {
            "tags": [],
            "needs_background": "light"
          }
        },
        {
          "output_type": "display_data",
          "data": {
            "image/png": "[encoded data removed]",
            "text/plain": [
              "<Figure size 432x288 with 1 Axes>"
            ]
          },
          "metadata": {
            "tags": [],
            "needs_background": "light"
          }
        },
        {
          "output_type": "display_data",
          "data": {
            "image/png": "[encoded data removed]",
            "text/plain": [
              "<Figure size 432x288 with 1 Axes>"
            ]
          },
          "metadata": {
            "tags": [],
            "needs_background": "light"
          }
        },
        {
          "output_type": "display_data",
          "data": {
            "image/png": "[encoded data removed]",
            "text/plain": [
              "<Figure size 432x288 with 1 Axes>"
            ]
          },
          "metadata": {
            "tags": [],
            "needs_background": "light"
          }
        },
        {
          "output_type": "display_data",
          "data": {
            "image/png": "[encoded data removed]",
            "text/plain": [
              "<Figure size 432x288 with 1 Axes>"
            ]
          },
          "metadata": {
            "tags": [],
            "needs_background": "light"
          }
        },
        {
          "output_type": "display_data",
          "data": {
            "image/png": "[encoded data removed]",
            "text/plain": [
              "<Figure size 432x288 with 1 Axes>"
            ]
          },
          "metadata": {
            "tags": [],
            "needs_background": "light"
          }
        },
        {
          "output_type": "display_data",
          "data": {
            "image/png": "[encoded data removed]",
            "text/plain": [
              "<Figure size 432x288 with 1 Axes>"
            ]
          },
          "metadata": {
            "tags": [],
            "needs_background": "light"
          }
        },
        {
          "output_type": "display_data",
          "data": {
            "image/png": "[encoded data removed]",
            "text/plain": [
              "<Figure size 432x288 with 1 Axes>"
            ]
          },
          "metadata": {
            "tags": [],
            "needs_background": "light"
          }
        },
        {
          "output_type": "display_data",
          "data": {
            "image/png": "[encoded data removed]",
            "text/plain": [
              "<Figure size 432x288 with 1 Axes>"
            ]
          },
          "metadata": {
            "tags": [],
            "needs_background": "light"
          }
        },
        {
          "output_type": "display_data",
          "data": {
            "image/png": "[encoded data removed]",
            "text/plain": [
              "<Figure size 432x288 with 1 Axes>"
            ]
          },
          "metadata": {
            "tags": [],
            "needs_background": "light"
          }
        },
        {
          "output_type": "display_data",
          "data": {
            "image/png": "[encoded data removed]",
            "text/plain": [
              "<Figure size 432x288 with 1 Axes>"
            ]
          },
          "metadata": {
            "tags": [],
            "needs_background": "light"
          }
        },
        {
          "output_type": "display_data",
          "data": {
            "image/png": "[encoded data removed]",
            "text/plain": [
              "<Figure size 432x288 with 1 Axes>"
            ]
          },
          "metadata": {
            "tags": [],
            "needs_background": "light"
          }
        },
        {
          "output_type": "display_data",
          "data": {
            "image/png": "[encoded data removed]",
            "text/plain": [
              "<Figure size 432x288 with 1 Axes>"
            ]
          },
          "metadata": {
            "tags": [],
            "needs_background": "light"
          }
        },
        {
          "output_type": "display_data",
          "data": {
            "image/png": "[encoded data removed]",
            "text/plain": [
              "<Figure size 432x288 with 1 Axes>"
            ]
          },
          "metadata": {
            "tags": [],
            "needs_background": "light"
          }
        },
        {
          "output_type": "display_data",
          "data": {
            "image/png": "[encoded data removed]",
            "text/plain": [
              "<Figure size 432x288 with 1 Axes>"
            ]
          },
          "metadata": {
            "tags": [],
            "needs_background": "light"
          }
        },
        {
          "output_type": "display_data",
          "data": {
            "image/png": "[encoded data removed]",
            "text/plain": [
              "<Figure size 432x288 with 1 Axes>"
            ]
          },
          "metadata": {
            "tags": [],
            "needs_background": "light"
          }
        },
        {
          "output_type": "display_data",
          "data": {
            "image/png": "[encoded data removed]",
            "text/plain": [
              "<Figure size 432x288 with 1 Axes>"
            ]
          },
          "metadata": {
            "tags": [],
            "needs_background": "light"
          }
        },
        {
          "output_type": "display_data",
          "data": {
            "image/png": "[encoded data removed]",
            "text/plain": [
              "<Figure size 432x288 with 1 Axes>"
            ]
          },
          "metadata": {
            "tags": [],
            "needs_background": "light"
          }
        },
        {
          "output_type": "display_data",
          "data": {
            "image/png": "[encoded data removed]",
            "text/plain": [
              "<Figure size 432x288 with 1 Axes>"
            ]
          },
          "metadata": {
            "tags": [],
            "needs_background": "light"
          }
        },
        {
          "output_type": "display_data",
          "data": {
            "image/png": "[encoded data removed]",
            "text/plain": [
              "<Figure size 432x288 with 1 Axes>"
            ]
          },
          "metadata": {
            "tags": [],
            "needs_background": "light"
          }
        },
        {
          "output_type": "display_data",
          "data": {
            "image/png": "[encoded data removed]",
            "text/plain": [
              "<Figure size 432x288 with 1 Axes>"
            ]
          },
          "metadata": {
            "tags": [],
            "needs_background": "light"
          }
        },
        {
          "output_type": "display_data",
          "data": {
            "image/png": "[encoded data removed]",
            "text/plain": [
              "<Figure size 432x288 with 1 Axes>"
            ]
          },
          "metadata": {
            "tags": [],
            "needs_background": "light"
          }
        },
        {
          "output_type": "display_data",
          "data": {
            "image/png": "[encoded data removed]",
            "text/plain": [
              "<Figure size 432x288 with 1 Axes>"
            ]
          },
          "metadata": {
            "tags": [],
            "needs_background": "light"
          }
        },
        {
          "output_type": "display_data",
          "data": {
            "image/png": "[encoded data removed]",
            "text/plain": [
              "<Figure size 432x288 with 1 Axes>"
            ]
          },
          "metadata": {
            "tags": [],
            "needs_background": "light"
          }
        },
        {
          "output_type": "display_data",
          "data": {
            "image/png": "[encoded data removed]",
            "text/plain": [
              "<Figure size 432x288 with 1 Axes>"
            ]
          },
          "metadata": {
            "tags": [],
            "needs_background": "light"
          }
        },
        {
          "output_type": "stream",
          "text": [
            "calculated mse 0.18062499999999998\n",
            "theoritical mse 0.16459500000000002\n"
          ],
          "name": "stdout"
        }
      ]
    },
    {
      "cell_type": "code",
      "metadata": {
        "colab": {
          "base_uri": "https://localhost:8080/"
        },
        "id": "h43gB9N2s4it",
        "outputId": "54c46cf7-3d4d-48fe-971a-5be97ccc49c7"
      },
      "source": [
        "nums = np.random.choice([0, 1], size=1000, p=[.1, .9])\n",
        "print(nums)\n",
        "print(np.mean(nums), np.count_nonzero(nums)/1000)"
      ],
      "execution_count": 10,
      "outputs": [
        {
          "output_type": "stream",
          "text": [
            "[1 1 1 1 1 0 0 1 1 1 1 1 1 1 1 1 1 1 1 1 1 1 1 1 1 1 1 1 1 1 1 1 1 1 1 1 1\n",
            " 0 1 1 1 1 1 1 1 1 1 1 1 1 1 0 1 1 1 1 0 0 1 1 1 1 1 0 0 1 0 1 1 1 1 0 1 1\n",
            " 0 1 1 1 1 1 0 1 1 1 1 1 0 1 0 1 1 1 0 1 1 1 1 1 1 1 1 1 0 1 1 1 1 1 1 1 1\n",
            " 1 1 1 1 1 1 1 1 1 1 1 1 1 0 1 1 1 1 1 1 1 1 0 1 1 1 1 1 1 1 1 1 1 1 1 1 1\n",
            " 1 1 1 1 1 1 1 0 1 1 1 1 1 1 1 1 1 1 1 1 1 1 0 1 1 1 1 1 1 1 1 0 1 1 1 1 1\n",
            " 0 1 1 1 1 0 1 1 1 1 1 1 1 1 1 0 1 1 1 1 1 1 1 1 1 1 1 1 1 1 1 1 1 1 1 1 1\n",
            " 1 1 1 1 1 1 1 1 1 1 1 1 1 1 1 1 1 1 1 0 1 1 1 1 1 1 1 1 1 1 0 1 1 1 1 1 1\n",
            " 1 1 1 1 1 1 1 1 1 1 1 1 1 1 1 0 1 1 1 1 1 1 1 1 1 1 1 1 1 1 1 1 1 1 1 1 1\n",
            " 1 0 1 1 1 0 1 1 0 1 0 0 1 0 1 1 1 1 1 1 1 0 1 1 0 1 1 1 0 1 1 1 1 1 1 1 0\n",
            " 1 1 1 1 1 1 1 1 1 1 1 1 1 1 1 1 1 1 1 1 1 1 1 0 1 1 1 1 1 1 1 1 1 1 1 1 1\n",
            " 0 1 1 1 0 1 1 0 1 1 1 0 1 1 1 1 1 1 1 0 1 1 0 1 1 1 1 1 1 1 1 1 1 1 1 1 1\n",
            " 1 0 1 1 1 0 1 1 1 1 0 1 1 1 1 0 1 1 1 1 1 1 1 1 0 1 1 1 1 1 1 1 1 1 1 1 1\n",
            " 1 1 1 1 0 1 1 1 1 1 1 1 1 1 1 1 1 1 1 1 1 1 1 1 1 1 1 1 0 1 0 1 1 1 1 1 0\n",
            " 1 1 1 1 0 1 1 1 1 1 0 1 1 1 1 1 1 0 0 1 1 0 1 1 1 1 0 1 1 1 1 1 1 1 0 1 1\n",
            " 1 0 1 1 1 0 0 1 1 1 1 1 1 1 1 1 1 1 0 1 0 1 1 0 1 0 1 1 1 1 1 1 1 1 1 1 0\n",
            " 1 1 1 1 1 1 1 1 0 1 1 1 1 1 1 1 1 1 1 0 0 1 1 1 1 1 1 1 0 1 1 1 1 1 1 1 1\n",
            " 1 1 1 1 1 1 1 1 0 1 1 1 1 1 1 1 1 0 1 0 1 1 1 1 1 1 0 0 1 1 1 1 1 1 1 1 1\n",
            " 1 1 1 1 0 1 1 1 1 1 1 1 1 0 1 1 1 1 1 1 1 1 1 1 1 1 1 0 1 1 1 1 0 0 1 1 1\n",
            " 1 1 1 1 1 1 1 1 0 1 1 1 1 1 1 0 1 1 1 1 1 1 1 1 1 1 1 1 1 1 1 0 1 1 0 1 1\n",
            " 1 1 1 1 1 1 1 1 1 1 0 1 1 1 1 1 1 1 1 1 1 1 1 1 1 1 1 0 1 1 1 1 1 1 1 1 1\n",
            " 1 1 1 1 1 1 0 1 1 1 1 1 1 1 0 1 1 1 1 1 1 1 1 1 0 1 0 1 1 1 1 0 1 1 1 1 1\n",
            " 1 1 1 1 1 1 1 1 1 1 1 0 1 1 1 0 1 0 1 1 1 1 1 1 1 1 1 1 1 1 0 1 1 1 1 0 1\n",
            " 1 1 1 1 1 1 0 1 1 0 1 1 1 1 1 1 1 1 1 1 1 1 1 1 1 1 1 1 1 1 1 1 1 1 0 1 1\n",
            " 1 0 1 1 0 1 1 1 0 1 1 1 0 1 0 1 1 1 1 1 1 1 1 1 1 1 1 1 1 1 1 1 0 1 1 1 1\n",
            " 1 1 1 1 1 0 1 1 1 1 1 1 1 1 1 1 1 1 1 1 1 1 1 1 1 1 1 1 1 1 1 0 1 1 1 1 1\n",
            " 1 1 1 1 1 1 1 0 1 1 1 1 1 1 1 1 1 0 1 1 1 1 1 1 0 1 1 1 1 1 1 1 1 1 1 1 1\n",
            " 1 1 1 1 1 1 1 0 1 1 1 1 1 1 1 1 1 1 1 1 1 1 0 1 1 1 1 1 1 1 1 1 1 1 1 0 1\n",
            " 1]\n",
            "0.885 0.885\n"
          ],
          "name": "stdout"
        }
      ]
    },
    {
      "cell_type": "code",
      "metadata": {
        "id": "_uqh3CQmvKlr",
        "outputId": "827817a1-1542-43fe-a91c-c6f1a55c0ced",
        "colab": {
          "base_uri": "https://localhost:8080/",
          "height": 418
        }
      },
      "source": [
        "w = 100 # simualtion width / fov on the ground\n",
        "a =  10 # size of the target on the ground\n",
        "r = a / w # ratio / mean between target and  \n",
        "d = 2 # movement of the target\n",
        "o_size = 1 # occluder size\n",
        "o_shift = 1 # occluder shift every image\n",
        "o_dens = 0.2 # occlusion density\n",
        "s_mean = .5 # signal mean\n",
        "N = 20 # number of images recorded\n",
        "if d<=0:\n",
        "  M = N\n",
        "else:\n",
        "  M = max(min(a/d,N),1)\n",
        "\n",
        "sx,sy = int(a), int(a)\n",
        "sum = np.zeros((1,w))\n",
        "singleimagearray =[]\n",
        "occlimage = np.random.choice([0, 1], size=(1,int(w/o_size)), p=[o_dens, 1-o_dens]) #np.random.binomial(n=1, p=1-o_dens, size=(1,50))\n",
        "occlimage = occlimage.repeat(o_size, axis=1)\n",
        "\n",
        "single = np.zeros_like(sum)\n",
        "x,y = sx + d, sy\n",
        "single[:,x:x+a] = s_mean\n",
        "def mov(single,d,i):\n",
        "  return np.roll(single, i*d)\n",
        "images = np.stack( list( map(lambda i : mov(single,d,i) ,range(N)) ), axis=2 )\n",
        "occls  = np.stack( list( map(lambda i : mov(occlimage,-o_shift,i) ,range(N)) ), axis=2 )\n",
        "\n",
        "# GT average image:\n",
        "print(np.sum(images,axis=2))\n",
        "# non-noise count:\n",
        "print(np.sum(occls,axis=2))\n",
        "\n",
        "assert False\n",
        "\n",
        "\n",
        "print(np.mean(occlimage), np.count_nonzero(occlimage), np.count_nonzero(occlimage)/50)\n",
        "imshow(occlimage, vmin=0.0, vmax=1.0)\n",
        "plt.show()\n",
        "occlimage = occlimage.repeat(o_size, axis=1)\n",
        "meas_dens = 1 - np.count_nonzero(occlimage)/100\n",
        "print(np.mean(occlimage), np.count_nonzero(occlimage),np.count_nonzero(occlimage)/100)\n",
        "imshow(occlimage, vmin=0.0, vmax=1.0)\n",
        "plt.show()\n",
        "shiftedocclimage = np.roll(occlimage, 2)\n",
        "imshow(shiftedocclimage, vmin=0.0, vmax=1.0)\n",
        "plt.show()\n",
        "for i in range(N):\n",
        "  single = np.zeros_like(sum)\n",
        "  x,y = sx + i*d, sy\n",
        "  single[:,x:x+a] = 0.5\n",
        "  shiftedocclimage = np.roll(occlimage, i*o_shift)\n",
        "  imshow(shiftedocclimage, vmin=0.0, vmax=1.0)\n",
        "  plt.show()\n",
        "  single = single * shiftedocclimage\n",
        "  imshow(single, vmin=0.0, vmax=1.0)\n",
        "  plt.show()\n",
        "  singleimagearray.append(single)\n",
        "  sum += single\n",
        "sum = sum/N\n",
        "imshow(sum, vmin=0.0, vmax=1.0)\n",
        "plt.title( 'mean: {}, var: {}'.format(np.mean(sum), np.var(sum)))\n",
        "plt.show()\n",
        "#####Calculate Mean square error#############\n",
        "noofpix = d\n",
        "x,y = sx + 0*d, sy\n",
        "endx,endy = sx + (N-4)*d, sy\n",
        "imshow(sum[:,x+a-noofpix:endx+a-noofpix], vmin=0.0, vmax=1.0)\n",
        "plt.title( 'Integrated Signal mean: {}, var: {}'.format(np.mean(sum[:,x+a-noofpix:endx+a-noofpix]), np.var(sum[:,x+a-noofpix:endx+a-noofpix])))\n",
        "plt.show() \n",
        "nopa = sum[:,x+a-noofpix:endx+a-noofpix]\n",
        "nop = len(nopa)\n",
        "sourcesingle = np.zeros((1,w))\n",
        "sourcesingle[:,x+a-noofpix:endx+a-noofpix] = signalmean\n",
        "imshow(sourcesingle[:,x+a-noofpix:endx+a-noofpix], vmin=0.0, vmax=1.0)\n",
        "plt.title( 'Source Signal mean: {}, var: {}'.format(np.mean(sourcesingle[:,x+a-noofpix:endx+a-noofpix]), np.var(sourcesingle[:,x+a-noofpix:endx+a-noofpix])))\n",
        "plt.show() \n",
        "calcmse = np.mean((sum[:,x+a-noofpix:endx+a-noofpix] - sourcesingle[:,x+a-noofpix:endx+a-noofpix])**2)\n",
        "print(\"calculated mse\",calcmse)\n",
        "theoriticalmse = theoritcal_MSE(0.5,0,0,0,meas_dens,N,int(a/d))\n",
        "print(\"theoritical mse\",theoriticalmse)"
      ],
      "execution_count": 24,
      "outputs": [
        {
          "output_type": "stream",
          "text": [
            "[[0.  0.  0.  0.  0.  0.  0.  0.  0.  0.  0.  0.  0.5 0.5 1.  1.  1.5 1.5\n",
            "  2.  2.  2.5 2.5 2.5 2.5 2.5 2.5 2.5 2.5 2.5 2.5 2.5 2.5 2.5 2.5 2.5 2.5\n",
            "  2.5 2.5 2.5 2.5 2.5 2.5 2.5 2.5 2.5 2.5 2.5 2.5 2.5 2.5 2.5 2.5 2.  2.\n",
            "  1.5 1.5 1.  1.  0.5 0.5 0.  0.  0.  0.  0.  0.  0.  0.  0.  0.  0.  0.\n",
            "  0.  0.  0.  0.  0.  0.  0.  0.  0.  0.  0.  0.  0.  0.  0.  0.  0.  0.\n",
            "  0.  0.  0.  0.  0.  0.  0.  0.  0.  0. ]]\n",
            "[[16 16 16 16 16 16 16 16 16 16 16 16 15 15 16 15 16 16 15 15 15 15 15 15\n",
            "  15 16 16 15 15 15 15 16 17 17 17 18 18 18 19 19 19 19 19 19 18 18 18 19\n",
            "  19 19 19 18 18 18 18 18 17 17 17 17 17 17 16 16 17 17 17 17 17 17 17 17\n",
            "  17 17 17 17 18 18 18 18 18 18 19 19 19 18 18 18 18 18 18 18 18 18 17 17\n",
            "  16 16 16 16]]\n"
          ],
          "name": "stdout"
        },
        {
          "output_type": "error",
          "ename": "AssertionError",
          "evalue": "ignored",
          "traceback": [
            "\u001b[0;31m---------------------------------------------------------------------------\u001b[0m",
            "\u001b[0;31mAssertionError\u001b[0m                            Traceback (most recent call last)",
            "\u001b[0;32m<ipython-input-24-2f29c858efbd>\u001b[0m in \u001b[0;36m<module>\u001b[0;34m()\u001b[0m\n\u001b[1;32m     32\u001b[0m \u001b[0mprint\u001b[0m\u001b[0;34m(\u001b[0m\u001b[0mnp\u001b[0m\u001b[0;34m.\u001b[0m\u001b[0msum\u001b[0m\u001b[0;34m(\u001b[0m\u001b[0moccls\u001b[0m\u001b[0;34m,\u001b[0m\u001b[0maxis\u001b[0m\u001b[0;34m=\u001b[0m\u001b[0;36m2\u001b[0m\u001b[0;34m)\u001b[0m\u001b[0;34m)\u001b[0m\u001b[0;34m\u001b[0m\u001b[0;34m\u001b[0m\u001b[0m\n\u001b[1;32m     33\u001b[0m \u001b[0;34m\u001b[0m\u001b[0m\n\u001b[0;32m---> 34\u001b[0;31m \u001b[0;32massert\u001b[0m \u001b[0;32mFalse\u001b[0m\u001b[0;34m\u001b[0m\u001b[0;34m\u001b[0m\u001b[0m\n\u001b[0m\u001b[1;32m     35\u001b[0m \u001b[0;34m\u001b[0m\u001b[0m\n\u001b[1;32m     36\u001b[0m \u001b[0;34m\u001b[0m\u001b[0m\n",
            "\u001b[0;31mAssertionError\u001b[0m: "
          ]
        }
      ]
    }
  ]
}